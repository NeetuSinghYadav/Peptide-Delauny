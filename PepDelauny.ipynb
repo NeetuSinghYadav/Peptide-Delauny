{
 "cells": [
  {
   "cell_type": "code",
   "execution_count": 1,
   "metadata": {},
   "outputs": [
    {
     "data": {
      "text/plain": [
       "'\\nThis script will do the delaunay tessellation of input 3D coorinates and returns the tetrahedraliy \\nhistogram\\nusage \"python PepDelaunay.py xx.pdb xx.traj up\"\\n'"
      ]
     },
     "execution_count": 1,
     "metadata": {},
     "output_type": "execute_result"
    }
   ],
   "source": [
    "'''\n",
    "This script will do the delaunay tessellation of input 3D coorinates and returns the tetrahedraliy \n",
    "histogram\n",
    "usage \"python PepDelaunay.py xx.pdb xx.traj up\"\n",
    "'''"
   ]
  },
  {
   "cell_type": "code",
   "execution_count": 2,
   "metadata": {},
   "outputs": [],
   "source": [
    "import numpy as np\n",
    "import numpy.linalg\n",
    "import scipy.stats\n",
    "import MDAnalysis as mda\n",
    "import mdtraj as md\n",
    "import MDAnalysis.lib.distances\n",
    "import math\n",
    "from tqdm import tqdm\n",
    "import matplotlib.pyplot as plt\n",
    "import MDAnalysis.lib.NeighborSearch as NS\n",
    "from scipy.spatial import Voronoi, voronoi_plot_2d, SphericalVoronoi, Delaunay\n",
    "import multiprocessing as mp\n",
    "import pandas as pd\n",
    "import seaborn as sns"
   ]
  },
  {
   "cell_type": "code",
   "execution_count": 3,
   "metadata": {},
   "outputs": [],
   "source": [
    "def GetCoords(ts):\n",
    "    timestep=200\n",
    "    \n",
    "    points = []\n",
    "    \n",
    "    RES_Sel   =ref.select_atoms('bynum '+ str(0) + ':' + str(atoms) +' and name BB' +' and resname LYS')\n",
    "    num_res   =len(list(RES_Sel.residues.resnames))\n",
    "\n",
    "    atoms3    = u.select_atoms(sel1)\n",
    "    chain1    = []\n",
    "    chain2    = []\n",
    "    #print (sel1.positions)\n",
    "    \n",
    "    for tt in tqdm(u.trajectory[::timestep]):\n",
    "        atom_Groups = [[] for x in range(chains)]\n",
    "        m_start     = 0\n",
    "        for m in range(0,chains):\n",
    "            m_end   = atoms * (m+1)\n",
    "            atom_Groups[m].extend([u.select_atoms('bynum '+ str(m_start) + ':' + str(m_end) +' and name BB' +' and resname LYS')]) \n",
    "            m_start = m_end + 1\n",
    "            mySet   = set([])   \n",
    "            \n",
    "   \n",
    "        for i in range(chains):\n",
    "            for j in range(num_res):\n",
    "                for k in range(j+3, num_res):\n",
    "                    #print (i,j,k, atom_Groups[i][0].positions[j],atom_Groups[i][0].positions[k],atom_Groups[i][0].resids)\n",
    "                    chain1.append(atom_Groups[i][0].positions[j])\n",
    "                    chain2.append(atom_Groups[i][0].positions[k])\n",
    "                    coords = np.concatenate((np.array(chain1), np.array(chain2)), axis=0) \n",
    "    return (coords)                   \n",
    "                    \n",
    "                    "
   ]
  },
  {
   "cell_type": "code",
   "execution_count": 4,
   "metadata": {},
   "outputs": [],
   "source": [
    "def EdgeLength(A,B):\n",
    "    dist=math.sqrt( ((float(A[0]) -float(B[0]))**2 ) +  ((float(A[1]) -float(B[1]))**2 ) + ((float(A[2]) -float(B[2]))**2 )   )\n",
    "    return dist"
   ]
  },
  {
   "cell_type": "code",
   "execution_count": 5,
   "metadata": {},
   "outputs": [],
   "source": [
    "def Delaunay_Tessellation(ts):\n",
    "    print ('Frame %i in %i \\n'%(ts, end_f))\n",
    "    points = GetCoords(ts)\n",
    "    tri    = Delaunay(points)   \n",
    "    \n",
    "    #plt.plot(points[:, 0], points[:, 1], points[:, 2], c='b', linestyle='dashed')\n",
    "    #plt.plot(sv.vertices[:, 0], sv.vertices[:, 1], sv.vertices[:, 2], c='g')\n",
    "    #plt.show()\n",
    "    #print (\"shape\", tri.simplices.shape)\n",
    "    #print (\"#\",tri.simplices)\n",
    "    #tri.simplices[0]\n",
    "    #print (\"#\",tri.neighbors)\n",
    "    #points[tri.simplices]\n",
    "\n",
    "    ridge_points   = tri.simplices\n",
    "    r_length       = len(ridge_points)\n",
    "    tetrahedrality = []\n",
    "    for k in range(0, r_length):\n",
    "        \n",
    "        sum_edge       = 0\n",
    "        sumd           = 0\n",
    "        tetra          = 0\n",
    "        lbar           = 0\n",
    "        ridge_k = ridge_points[k]\n",
    "        L0 = points[int(ridge_k[0])]\n",
    "        L1 = points[int(ridge_k[1])] \n",
    "        L2 = points[int(ridge_k[2])] \n",
    "        L3 = points[int(ridge_k[3])]   \n",
    "        #print (ridge_k, L0, L1, L2, L3) \n",
    "        \n",
    "        L01 = EdgeLength(L0,L1)\n",
    "        L02 = EdgeLength(L0,L2)\n",
    "        L03 = EdgeLength(L0,L3)\n",
    "        L12 = EdgeLength(L1,L2)\n",
    "        L13 = EdgeLength(L1,L3)\n",
    "        L23 = EdgeLength(L2,L3)\n",
    "        \n",
    "        sumd += L01 + L02 + L03 + L12 + L13 + L23 \n",
    "        lbar= sumd/15.0\n",
    "        \n",
    "        a1  = EdgeLength(L0,L1) - EdgeLength(L0,L2)\n",
    "        a2  = EdgeLength(L0,L1) - EdgeLength(L0,L3)\n",
    "        a3  = EdgeLength(L0,L1) - EdgeLength(L1,L2)\n",
    "        a4  = EdgeLength(L0,L1) - EdgeLength(L1,L3)\n",
    "        a5  = EdgeLength(L0,L1) - EdgeLength(L2,L3)\n",
    "        \n",
    "        a6  = EdgeLength(L0,L2) - EdgeLength(L0,L3)\n",
    "        a7  = EdgeLength(L0,L2) - EdgeLength(L1,L2)\n",
    "        a8  = EdgeLength(L0,L2) - EdgeLength(L1,L3)\n",
    "        a9  = EdgeLength(L0,L2) - EdgeLength(L2,L3)\n",
    "        \n",
    "        a10 = EdgeLength(L0,L3) - EdgeLength(L1,L2)\n",
    "        a11 = EdgeLength(L0,L3) - EdgeLength(L1,L2)\n",
    "        a12 = EdgeLength(L0,L3) - EdgeLength(L1,L2)\n",
    "        \n",
    "        a13 = EdgeLength(L1,L2) - EdgeLength(L1,L3)\n",
    "        a14 = EdgeLength(L1,L2) - EdgeLength(L2,L3)\n",
    "        \n",
    "        a15 = EdgeLength(L1,L3) - EdgeLength(L2,L3)\n",
    "        \n",
    "        \n",
    "        sum_edge += a1*a1 + a2*a2 + a3*a3 + a4*a4 + a5*a5 + a6*a6 + a7*a7 + a8*a8 + a9*a9 + a10*a10  + a11*a11 + a12*a12 + a13*a13 + a14*a14 + a15*a15    \n",
    "        \n",
    "        tetra = sum_edge/(15*lbar*lbar) \n",
    "        #print (\"lbar\", lbar, \"sumd\", sumd, \"sum_edge\", sum_edge, \"tet\", tetra)\n",
    "        tetrahedrality.append(tetra) \n",
    "        \n",
    "    return (tetrahedrality)"
   ]
  },
  {
   "cell_type": "code",
   "execution_count": 6,
   "metadata": {},
   "outputs": [],
   "source": [
    "def Histogram(data):\n",
    "    mat   = np.asarray(pd.DataFrame(data)).flatten()\n",
    "    mat1  = mat[np.logical_not(np.isnan(mat))]\n",
    "    \n",
    "    np.savetxt(Name+'_Tetrahedrality.dat', mat1, header=Name)\n",
    "    \n",
    "    ax    = sns.distplot(mat1, hist=True, kde=True, color=\"r\", label=Name, hist_kws={ \"alpha\":1, \"linewidth\": 3})\n",
    "    ax.set_ylabel(\"Probability\")\n",
    "    ax.set_xlabel(\"T\")\n",
    "    ax.set_title(\"Tetrahedrality\", fontsize='large')\n",
    "    ax.legend()\n",
    "    plt.savefig(Name+\"_Tetrahedrality.png\", dpi=600, facecolor='w', edgecolor='w',orientation='portrait')   \n",
    "    #plt.show()"
   ]
  },
  {
   "cell_type": "code",
   "execution_count": 7,
   "metadata": {},
   "outputs": [
    {
     "name": "stderr",
     "output_type": "stream",
     "text": [
      "/home/yadav129/anaconda3/lib/python3.9/site-packages/MDAnalysis/topology/PDBParser.py:317: UserWarning: Element information is missing, elements attribute will not be populated. If needed these can be guessed using MDAnalysis.topology.guessers.\n",
      "  warnings.warn(\"Element information is missing, elements attribute \"\n"
     ]
    },
    {
     "name": "stdout",
     "output_type": "stream",
     "text": [
      "There are 16 chains and each has 50 number of AminoAcids\n",
      "Frame 1400 in 20001 \n",
      "Frame 0 in 20001 \n",
      "Frame 2800 in 20001 \n",
      "Frame 4200 in 20001 \n",
      "\n",
      "\n",
      "\n",
      "\n"
     ]
    },
    {
     "name": "stderr",
     "output_type": "stream",
     "text": [
      "  0%|                                                                                                                    | 0/101 [00:00<?, ?it/s]"
     ]
    },
    {
     "name": "stdout",
     "output_type": "stream",
     "text": [
      "Initiating multiprocessing with 4 processors\n"
     ]
    },
    {
     "name": "stderr",
     "output_type": "stream",
     "text": [
      "100%|██████████████████████████████████████████████████████████████████████████████████████████████████████████| 101/101 [00:14<00:00,  6.96it/s]\n",
      "100%|██████████████████████████████████████████████████████████████████████████████████████████████████████████| 101/101 [00:14<00:00,  6.82it/s]\n",
      "100%|██████████████████████████████████████████████████████████████████████████████████████████████████████████| 101/101 [00:14<00:00,  6.81it/s]\n",
      "100%|██████████████████████████████████████████████████████████████████████████████████████████████████████████| 101/101 [00:15<00:00,  6.48it/s]\n"
     ]
    },
    {
     "name": "stdout",
     "output_type": "stream",
     "text": [
      "Frame 200 in 20001 \n",
      "\n"
     ]
    },
    {
     "name": "stderr",
     "output_type": "stream",
     "text": [
      "\r",
      "  0%|                                                                                                                    | 0/101 [00:00<?, ?it/s]"
     ]
    },
    {
     "name": "stdout",
     "output_type": "stream",
     "text": [
      "Frame 1600 in 20001 \n",
      "\n"
     ]
    },
    {
     "name": "stderr",
     "output_type": "stream",
     "text": [
      "  5%|█████▎                                                                                                      | 5/101 [00:00<00:02, 39.69it/s]"
     ]
    },
    {
     "name": "stdout",
     "output_type": "stream",
     "text": [
      "Frame 4400 in 20001 \n",
      "\n"
     ]
    },
    {
     "name": "stderr",
     "output_type": "stream",
     "text": [
      " 17%|██████████████████                                                                                         | 17/101 [00:00<00:04, 20.63it/s]"
     ]
    },
    {
     "name": "stdout",
     "output_type": "stream",
     "text": [
      "Frame 3000 in 20001 \n",
      "\n"
     ]
    },
    {
     "name": "stderr",
     "output_type": "stream",
     "text": [
      "100%|██████████████████████████████████████████████████████████████████████████████████████████████████████████| 101/101 [00:14<00:00,  7.17it/s]\n",
      "100%|██████████████████████████████████████████████████████████████████████████████████████████████████████████| 101/101 [00:14<00:00,  6.97it/s]\n",
      "100%|██████████████████████████████████████████████████████████████████████████████████████████████████████████| 101/101 [00:14<00:00,  6.91it/s]\n",
      "100%|██████████████████████████████████████████████████████████████████████████████████████████████████████████| 101/101 [00:14<00:00,  7.06it/s]\n"
     ]
    },
    {
     "name": "stdout",
     "output_type": "stream",
     "text": [
      "Frame 4600 in 20001 \n",
      "\n"
     ]
    },
    {
     "name": "stderr",
     "output_type": "stream",
     "text": [
      "  8%|████████▌                                                                                                   | 8/101 [00:00<00:03, 26.86it/s]"
     ]
    },
    {
     "name": "stdout",
     "output_type": "stream",
     "text": [
      "Frame 1800 in 20001 \n",
      "\n"
     ]
    },
    {
     "name": "stderr",
     "output_type": "stream",
     "text": [
      "  4%|████▎                                                                                                       | 4/101 [00:00<00:02, 33.53it/s]"
     ]
    },
    {
     "name": "stdout",
     "output_type": "stream",
     "text": [
      "Frame 400 in 20001 \n",
      "\n"
     ]
    },
    {
     "name": "stderr",
     "output_type": "stream",
     "text": [
      " 24%|█████████████████████████▍                                                                                 | 24/101 [00:01<00:04, 16.23it/s]"
     ]
    },
    {
     "name": "stdout",
     "output_type": "stream",
     "text": [
      "Frame 3200 in 20001 \n",
      "\n"
     ]
    },
    {
     "name": "stderr",
     "output_type": "stream",
     "text": [
      "100%|██████████████████████████████████████████████████████████████████████████████████████████████████████████| 101/101 [00:14<00:00,  6.82it/s]\n",
      "100%|██████████████████████████████████████████████████████████████████████████████████████████████████████████| 101/101 [00:15<00:00,  6.69it/s]\n",
      "100%|██████████████████████████████████████████████████████████████████████████████████████████████████████████| 101/101 [00:15<00:00,  6.51it/s]\n",
      "100%|██████████████████████████████████████████████████████████████████████████████████████████████████████████| 101/101 [00:15<00:00,  6.67it/s]\n"
     ]
    },
    {
     "name": "stdout",
     "output_type": "stream",
     "text": [
      "Frame 4800 in 20001 \n",
      "\n"
     ]
    },
    {
     "name": "stderr",
     "output_type": "stream",
     "text": [
      "  8%|████████▌                                                                                                   | 8/101 [00:00<00:03, 23.67it/s]"
     ]
    },
    {
     "name": "stdout",
     "output_type": "stream",
     "text": [
      "Frame 3400 in 20001 \n"
     ]
    },
    {
     "name": "stderr",
     "output_type": "stream",
     "text": [
      "\r",
      " 11%|███████████▋                                                                                               | 11/101 [00:00<00:04, 20.41it/s]"
     ]
    },
    {
     "name": "stdout",
     "output_type": "stream",
     "text": [
      "\n"
     ]
    },
    {
     "name": "stderr",
     "output_type": "stream",
     "text": [
      "  4%|████▎                                                                                                       | 4/101 [00:00<00:02, 34.87it/s]"
     ]
    },
    {
     "name": "stdout",
     "output_type": "stream",
     "text": [
      "Frame 600 in 20001 \n",
      "\n"
     ]
    },
    {
     "name": "stderr",
     "output_type": "stream",
     "text": [
      "\r",
      "  0%|                                                                                                                    | 0/101 [00:00<?, ?it/s]"
     ]
    },
    {
     "name": "stdout",
     "output_type": "stream",
     "text": [
      "Frame 2000 in 20001 \n"
     ]
    },
    {
     "name": "stderr",
     "output_type": "stream",
     "text": [
      "\r",
      " 14%|██████████████▊                                                                                            | 14/101 [00:00<00:04, 19.87it/s]"
     ]
    },
    {
     "name": "stdout",
     "output_type": "stream",
     "text": [
      "\n"
     ]
    },
    {
     "name": "stderr",
     "output_type": "stream",
     "text": [
      "100%|██████████████████████████████████████████████████████████████████████████████████████████████████████████| 101/101 [00:14<00:00,  6.87it/s]\n",
      "100%|██████████████████████████████████████████████████████████████████████████████████████████████████████████| 101/101 [00:14<00:00,  6.87it/s]\n",
      "100%|██████████████████████████████████████████████████████████████████████████████████████████████████████████| 101/101 [00:14<00:00,  6.85it/s]\n",
      "100%|██████████████████████████████████████████████████████████████████████████████████████████████████████████| 101/101 [00:15<00:00,  6.53it/s]\n"
     ]
    },
    {
     "name": "stdout",
     "output_type": "stream",
     "text": [
      "Frame 3600 in 20001 \n",
      "\n"
     ]
    },
    {
     "name": "stderr",
     "output_type": "stream",
     "text": [
      "  5%|█████▎                                                                                                      | 5/101 [00:00<00:02, 38.69it/s]"
     ]
    },
    {
     "name": "stdout",
     "output_type": "stream",
     "text": [
      "Frame 2200 in 20001 \n",
      "\n",
      "Frame 800 in 20001 \n"
     ]
    },
    {
     "name": "stderr",
     "output_type": "stream",
     "text": [
      "\r",
      "  0%|                                                                                                                    | 0/101 [00:00<?, ?it/s]"
     ]
    },
    {
     "name": "stdout",
     "output_type": "stream",
     "text": [
      "\n"
     ]
    },
    {
     "name": "stderr",
     "output_type": "stream",
     "text": [
      "  4%|████▎                                                                                                       | 4/101 [00:00<00:02, 38.75it/s]"
     ]
    },
    {
     "name": "stdout",
     "output_type": "stream",
     "text": [
      "Frame 5000 in 20001 \n",
      "\n"
     ]
    },
    {
     "name": "stderr",
     "output_type": "stream",
     "text": [
      "100%|██████████████████████████████████████████████████████████████████████████████████████████████████████████| 101/101 [00:14<00:00,  7.01it/s]\n",
      "100%|██████████████████████████████████████████████████████████████████████████████████████████████████████████| 101/101 [00:14<00:00,  7.10it/s]\n",
      "100%|██████████████████████████████████████████████████████████████████████████████████████████████████████████| 101/101 [00:14<00:00,  6.94it/s]\n",
      "100%|██████████████████████████████████████████████████████████████████████████████████████████████████████████| 101/101 [00:14<00:00,  6.94it/s]\n"
     ]
    },
    {
     "name": "stdout",
     "output_type": "stream",
     "text": [
      "Frame 1000 in 20001 \n",
      "\n"
     ]
    },
    {
     "name": "stderr",
     "output_type": "stream",
     "text": [
      " 10%|██████████▌                                                                                                | 10/101 [00:00<00:02, 35.06it/s]"
     ]
    },
    {
     "name": "stdout",
     "output_type": "stream",
     "text": [
      "Frame 2400 in 20001 \n",
      "\n"
     ]
    },
    {
     "name": "stderr",
     "output_type": "stream",
     "text": [
      " 24%|█████████████████████████▍                                                                                 | 24/101 [00:01<00:04, 17.34it/s]"
     ]
    },
    {
     "name": "stdout",
     "output_type": "stream",
     "text": [
      "Frame 3800 in 20001 \n",
      "\n"
     ]
    },
    {
     "name": "stderr",
     "output_type": "stream",
     "text": [
      " 36%|██████████████████████████████████████▏                                                                    | 36/101 [00:01<00:04, 13.14it/s]"
     ]
    },
    {
     "name": "stdout",
     "output_type": "stream",
     "text": [
      "Frame 5200 in 20001 \n"
     ]
    },
    {
     "name": "stderr",
     "output_type": "stream",
     "text": [
      "\r",
      " 12%|████████████▋                                                                                              | 12/101 [00:00<00:03, 25.69it/s]"
     ]
    },
    {
     "name": "stdout",
     "output_type": "stream",
     "text": [
      "\n"
     ]
    },
    {
     "name": "stderr",
     "output_type": "stream",
     "text": [
      "100%|██████████████████████████████████████████████████████████████████████████████████████████████████████████| 101/101 [00:14<00:00,  7.03it/s]\n",
      "100%|██████████████████████████████████████████████████████████████████████████████████████████████████████████| 101/101 [00:15<00:00,  6.70it/s]\n",
      "100%|██████████████████████████████████████████████████████████████████████████████████████████████████████████| 101/101 [00:14<00:00,  6.99it/s]\n",
      "100%|██████████████████████████████████████████████████████████████████████████████████████████████████████████| 101/101 [00:14<00:00,  7.15it/s]\n"
     ]
    },
    {
     "name": "stdout",
     "output_type": "stream",
     "text": [
      "Frame 1200 in 20001 \n",
      "\n"
     ]
    },
    {
     "name": "stderr",
     "output_type": "stream",
     "text": [
      " 22%|███████████████████████▎                                                                                   | 22/101 [00:00<00:03, 21.14it/s]"
     ]
    },
    {
     "name": "stdout",
     "output_type": "stream",
     "text": [
      "Frame 2600 in 20001 \n",
      "\n"
     ]
    },
    {
     "name": "stderr",
     "output_type": "stream",
     "text": [
      " 14%|██████████████▊                                                                                            | 14/101 [00:00<00:03, 22.73it/s]"
     ]
    },
    {
     "name": "stdout",
     "output_type": "stream",
     "text": [
      "Frame 5400 in 20001 \n",
      "\n"
     ]
    },
    {
     "name": "stderr",
     "output_type": "stream",
     "text": [
      " 33%|██████████████████████████████████▉                                                                        | 33/101 [00:01<00:04, 14.96it/s]"
     ]
    },
    {
     "name": "stdout",
     "output_type": "stream",
     "text": [
      "Frame 4000 in 20001 \n",
      "\n"
     ]
    },
    {
     "name": "stderr",
     "output_type": "stream",
     "text": [
      "100%|██████████████████████████████████████████████████████████████████████████████████████████████████████████| 101/101 [00:14<00:00,  7.02it/s]\n",
      "100%|██████████████████████████████████████████████████████████████████████████████████████████████████████████| 101/101 [00:14<00:00,  7.06it/s]\n",
      "100%|██████████████████████████████████████████████████████████████████████████████████████████████████████████| 101/101 [00:15<00:00,  6.65it/s]\n",
      "100%|██████████████████████████████████████████████████████████████████████████████████████████████████████████| 101/101 [00:14<00:00,  6.88it/s]\n"
     ]
    },
    {
     "name": "stdout",
     "output_type": "stream",
     "text": [
      "Frame 5600 in 20001 \n",
      "\n"
     ]
    },
    {
     "name": "stderr",
     "output_type": "stream",
     "text": [
      " 32%|█████████████████████████████████▉                                                                         | 32/101 [00:01<00:05, 13.15it/s]"
     ]
    },
    {
     "name": "stdout",
     "output_type": "stream",
     "text": [
      "Frame 7000 in 20001 \n",
      "\n"
     ]
    },
    {
     "name": "stderr",
     "output_type": "stream",
     "text": [
      " 46%|████████████████████████████████████████████████▋                                                          | 46/101 [00:03<00:05, 10.55it/s]"
     ]
    },
    {
     "name": "stdout",
     "output_type": "stream",
     "text": [
      "Frame 8400 in 20001 \n",
      "\n"
     ]
    },
    {
     "name": "stderr",
     "output_type": "stream",
     "text": [
      "  0%|                                                                                                                    | 0/101 [00:00<?, ?it/s]"
     ]
    },
    {
     "name": "stdout",
     "output_type": "stream",
     "text": [
      "Frame 9800 in 20001 \n",
      "\n"
     ]
    },
    {
     "name": "stderr",
     "output_type": "stream",
     "text": [
      "100%|██████████████████████████████████████████████████████████████████████████████████████████████████████████| 101/101 [00:15<00:00,  6.68it/s]\n",
      "100%|██████████████████████████████████████████████████████████████████████████████████████████████████████████| 101/101 [00:14<00:00,  6.86it/s]\n",
      "100%|██████████████████████████████████████████████████████████████████████████████████████████████████████████| 101/101 [00:14<00:00,  6.98it/s]\n",
      "\n"
     ]
    },
    {
     "name": "stdout",
     "output_type": "stream",
     "text": [
      "Frame 5800 in 20001 \n",
      "\n"
     ]
    },
    {
     "name": "stderr",
     "output_type": "stream",
     "text": [
      " 30%|███████████████████████████████▊                                                                           | 30/101 [00:01<00:04, 14.22it/s]"
     ]
    },
    {
     "name": "stdout",
     "output_type": "stream",
     "text": [
      "Frame 7200 in 20001 \n",
      "\n"
     ]
    },
    {
     "name": "stderr",
     "output_type": "stream",
     "text": [
      " 39%|█████████████████████████████████████████▎                                                                 | 39/101 [00:02<00:04, 12.97it/s]"
     ]
    },
    {
     "name": "stdout",
     "output_type": "stream",
     "text": [
      "Frame 10000 in 20001 \n",
      "Frame 8600 in 20001 \n",
      "\n",
      "\n"
     ]
    },
    {
     "name": "stderr",
     "output_type": "stream",
     "text": [
      "100%|██████████████████████████████████████████████████████████████████████████████████████████████████████████| 101/101 [00:14<00:00,  7.04it/s]\n",
      "100%|██████████████████████████████████████████████████████████████████████████████████████████████████████████| 101/101 [00:14<00:00,  6.91it/s]\n",
      "100%|██████████████████████████████████████████████████████████████████████████████████████████████████████████| 101/101 [00:13<00:00,  7.27it/s]\n",
      "100%|██████████████████████████████████████████████████████████████████████████████████████████████████████████| 101/101 [00:13<00:00,  7.26it/s]\n"
     ]
    },
    {
     "name": "stdout",
     "output_type": "stream",
     "text": [
      "Frame 6000 in 20001 \n",
      "\n"
     ]
    },
    {
     "name": "stderr",
     "output_type": "stream",
     "text": [
      " 43%|█████████████████████████████████████████████▌                                                             | 43/101 [00:02<00:05, 10.00it/s]"
     ]
    },
    {
     "name": "stdout",
     "output_type": "stream",
     "text": [
      "Frame 7400 in 20001 \n",
      "\n"
     ]
    },
    {
     "name": "stderr",
     "output_type": "stream",
     "text": [
      " 50%|████████████████████████████████████████████████████▉                                                      | 50/101 [00:03<00:06,  7.90it/s]"
     ]
    },
    {
     "name": "stdout",
     "output_type": "stream",
     "text": [
      "Frame 10200 in 20001 \n",
      "\n"
     ]
    },
    {
     "name": "stderr",
     "output_type": "stream",
     "text": [
      " 28%|█████████████████████████████▋                                                                             | 28/101 [00:01<00:04, 15.41it/s]"
     ]
    },
    {
     "name": "stdout",
     "output_type": "stream",
     "text": [
      "Frame 8800 in 20001 \n"
     ]
    },
    {
     "name": "stderr",
     "output_type": "stream",
     "text": [
      "\r",
      " 54%|██████████████████████████████████████████████████████████▎                                                | 55/101 [00:04<00:06,  7.08it/s]"
     ]
    },
    {
     "name": "stdout",
     "output_type": "stream",
     "text": [
      "\n"
     ]
    },
    {
     "name": "stderr",
     "output_type": "stream",
     "text": [
      "100%|██████████████████████████████████████████████████████████████████████████████████████████████████████████| 101/101 [00:14<00:00,  6.96it/s]\n",
      "100%|██████████████████████████████████████████████████████████████████████████████████████████████████████████| 101/101 [00:14<00:00,  7.04it/s]\n",
      "100%|██████████████████████████████████████████████████████████████████████████████████████████████████████████| 101/101 [00:13<00:00,  7.41it/s]\n",
      "100%|██████████████████████████████████████████████████████████████████████████████████████████████████████████| 101/101 [00:14<00:00,  6.93it/s]\n"
     ]
    },
    {
     "name": "stdout",
     "output_type": "stream",
     "text": [
      "Frame 6200 in 20001 \n",
      "\n"
     ]
    },
    {
     "name": "stderr",
     "output_type": "stream",
     "text": [
      " 34%|████████████████████████████████████                                                                       | 34/101 [00:01<00:04, 13.49it/s]"
     ]
    },
    {
     "name": "stdout",
     "output_type": "stream",
     "text": [
      "Frame 7600 in 20001 \n",
      "\n"
     ]
    },
    {
     "name": "stderr",
     "output_type": "stream",
     "text": [
      " 22%|███████████████████████▎                                                                                   | 22/101 [00:01<00:04, 17.92it/s]"
     ]
    },
    {
     "name": "stdout",
     "output_type": "stream",
     "text": [
      "Frame 9000 in 20001 \n",
      "\n"
     ]
    },
    {
     "name": "stderr",
     "output_type": "stream",
     "text": [
      " 50%|████████████████████████████████████████████████████▉                                                      | 50/101 [00:03<00:05,  8.70it/s]"
     ]
    },
    {
     "name": "stdout",
     "output_type": "stream",
     "text": [
      "Frame 10400 in 20001 \n",
      "\n"
     ]
    },
    {
     "name": "stderr",
     "output_type": "stream",
     "text": [
      "100%|██████████████████████████████████████████████████████████████████████████████████████████████████████████| 101/101 [00:14<00:00,  7.18it/s]\n",
      "100%|██████████████████████████████████████████████████████████████████████████████████████████████████████████| 101/101 [00:14<00:00,  7.06it/s]\n",
      "100%|██████████████████████████████████████████████████████████████████████████████████████████████████████████| 101/101 [00:14<00:00,  6.96it/s]\n",
      "100%|██████████████████████████████████████████████████████████████████████████████████████████████████████████| 101/101 [00:14<00:00,  7.02it/s]\n"
     ]
    },
    {
     "name": "stdout",
     "output_type": "stream",
     "text": [
      "Frame 6400 in 20001 \n",
      "\n"
     ]
    },
    {
     "name": "stderr",
     "output_type": "stream",
     "text": [
      " 40%|██████████████████████████████████████████▍                                                                | 40/101 [00:02<00:05, 11.39it/s]"
     ]
    },
    {
     "name": "stdout",
     "output_type": "stream",
     "text": [
      "Frame 7800 in 20001 \n",
      "\n"
     ]
    },
    {
     "name": "stderr",
     "output_type": "stream",
     "text": [
      " 23%|████████████████████████▎                                                                                  | 23/101 [00:01<00:04, 16.79it/s]"
     ]
    },
    {
     "name": "stdout",
     "output_type": "stream",
     "text": [
      "Frame 10600 in 20001 \n",
      "\n"
     ]
    },
    {
     "name": "stderr",
     "output_type": "stream",
     "text": [
      "\r",
      "  0%|                                                                                                                    | 0/101 [00:00<?, ?it/s]"
     ]
    },
    {
     "name": "stdout",
     "output_type": "stream",
     "text": [
      "Frame 9200 in 20001 \n",
      "\n"
     ]
    },
    {
     "name": "stderr",
     "output_type": "stream",
     "text": [
      "100%|██████████████████████████████████████████████████████████████████████████████████████████████████████████| 101/101 [00:14<00:00,  6.76it/s]\n",
      "100%|██████████████████████████████████████████████████████████████████████████████████████████████████████████| 101/101 [00:15<00:00,  6.71it/s]\n",
      "100%|██████████████████████████████████████████████████████████████████████████████████████████████████████████| 101/101 [00:14<00:00,  6.82it/s]\n",
      "100%|██████████████████████████████████████████████████████████████████████████████████████████████████████████| 101/101 [00:14<00:00,  6.74it/s]\n"
     ]
    },
    {
     "name": "stdout",
     "output_type": "stream",
     "text": [
      "Frame 6600 in 20001 \n",
      "\n"
     ]
    },
    {
     "name": "stderr",
     "output_type": "stream",
     "text": [
      " 48%|██████████████████████████████████████████████████▊                                                        | 48/101 [00:03<00:05,  9.28it/s]"
     ]
    },
    {
     "name": "stdout",
     "output_type": "stream",
     "text": [
      "Frame 8000 in 20001 \n",
      "\n"
     ]
    },
    {
     "name": "stderr",
     "output_type": "stream",
     "text": [
      " 52%|████████████████████████████████████████████████████████▏                                                  | 53/101 [00:03<00:05,  9.42it/s]"
     ]
    },
    {
     "name": "stdout",
     "output_type": "stream",
     "text": [
      "Frame 10800 in 20001 \n",
      "\n"
     ]
    },
    {
     "name": "stderr",
     "output_type": "stream",
     "text": [
      " 23%|████████████████████████▎                                                                                  | 23/101 [00:01<00:03, 19.95it/s]"
     ]
    },
    {
     "name": "stdout",
     "output_type": "stream",
     "text": [
      "Frame 9400 in 20001 \n",
      "\n"
     ]
    },
    {
     "name": "stderr",
     "output_type": "stream",
     "text": [
      "100%|██████████████████████████████████████████████████████████████████████████████████████████████████████████| 101/101 [00:14<00:00,  7.19it/s]\n",
      "100%|██████████████████████████████████████████████████████████████████████████████████████████████████████████| 101/101 [00:14<00:00,  6.96it/s]\n",
      "100%|██████████████████████████████████████████████████████████████████████████████████████████████████████████| 101/101 [00:14<00:00,  6.82it/s]\n",
      "100%|██████████████████████████████████████████████████████████████████████████████████████████████████████████| 101/101 [00:14<00:00,  7.17it/s]\n"
     ]
    },
    {
     "name": "stdout",
     "output_type": "stream",
     "text": [
      "Frame 6800 in 20001 \n",
      "\n"
     ]
    },
    {
     "name": "stderr",
     "output_type": "stream",
     "text": [
      " 55%|███████████████████████████████████████████████████████████▎                                               | 56/101 [00:04<00:05,  8.93it/s]"
     ]
    },
    {
     "name": "stdout",
     "output_type": "stream",
     "text": [
      "Frame 11000 in 20001 \n",
      "\n"
     ]
    },
    {
     "name": "stderr",
     "output_type": "stream",
     "text": [
      " 14%|██████████████▊                                                                                            | 14/101 [00:00<00:03, 22.65it/s]"
     ]
    },
    {
     "name": "stdout",
     "output_type": "stream",
     "text": [
      "Frame 8200 in 20001 \n",
      "\n"
     ]
    },
    {
     "name": "stderr",
     "output_type": "stream",
     "text": [
      " 63%|███████████████████████████████████████████████████████████████████▊                                       | 64/101 [00:05<00:05,  6.59it/s]"
     ]
    },
    {
     "name": "stdout",
     "output_type": "stream",
     "text": [
      "Frame 9600 in 20001 \n",
      "\n"
     ]
    },
    {
     "name": "stderr",
     "output_type": "stream",
     "text": [
      "100%|██████████████████████████████████████████████████████████████████████████████████████████████████████████| 101/101 [00:14<00:00,  7.16it/s]\n",
      "100%|██████████████████████████████████████████████████████████████████████████████████████████████████████████| 101/101 [00:14<00:00,  7.05it/s]\n",
      " 98%|████████████████████████████████████████████████████████████████████████████████████████████████████████▉  | 99/101 [00:14<00:00,  3.53it/s]"
     ]
    },
    {
     "name": "stdout",
     "output_type": "stream",
     "text": [
      "Frame 11200 in 20001 \n",
      "\n"
     ]
    },
    {
     "name": "stderr",
     "output_type": "stream",
     "text": [
      "100%|██████████████████████████████████████████████████████████████████████████████████████████████████████████| 101/101 [00:13<00:00,  7.27it/s]\n",
      "100%|██████████████████████████████████████████████████████████████████████████████████████████████████████████| 101/101 [00:14<00:00,  6.89it/s]\n",
      " 60%|████████████████████████████████████████████████████████████████▌                                          | 61/101 [00:04<00:05,  7.11it/s]"
     ]
    },
    {
     "name": "stdout",
     "output_type": "stream",
     "text": [
      "Frame 12600 in 20001 \n",
      "\n"
     ]
    },
    {
     "name": "stderr",
     "output_type": "stream",
     "text": [
      "  4%|████▎                                                                                                       | 4/101 [00:00<00:02, 33.42it/s]"
     ]
    },
    {
     "name": "stdout",
     "output_type": "stream",
     "text": [
      "Frame 14000 in 20001 \n",
      "\n"
     ]
    },
    {
     "name": "stderr",
     "output_type": "stream",
     "text": [
      " 66%|██████████████████████████████████████████████████████████████████████▉                                    | 67/101 [00:05<00:05,  6.60it/s]"
     ]
    },
    {
     "name": "stdout",
     "output_type": "stream",
     "text": [
      "Frame 15400 in 20001 \n",
      "\n"
     ]
    },
    {
     "name": "stderr",
     "output_type": "stream",
     "text": [
      "100%|██████████████████████████████████████████████████████████████████████████████████████████████████████████| 101/101 [00:14<00:00,  7.11it/s]\n",
      " 97%|███████████████████████████████████████████████████████████████████████████████████████████████████████▊   | 98/101 [00:13<00:00,  3.47it/s]"
     ]
    },
    {
     "name": "stdout",
     "output_type": "stream",
     "text": [
      "Frame 11400 in 20001 \n"
     ]
    },
    {
     "name": "stderr",
     "output_type": "stream",
     "text": [
      "\r",
      " 98%|████████████████████████████████████████████████████████████████████████████████████████████████████████▉  | 99/101 [00:13<00:00,  3.71it/s]"
     ]
    },
    {
     "name": "stdout",
     "output_type": "stream",
     "text": [
      "\n"
     ]
    },
    {
     "name": "stderr",
     "output_type": "stream",
     "text": [
      " 97%|███████████████████████████████████████████████████████████████████████████████████████████████████████▊   | 98/101 [00:13<00:00,  3.40it/s]\n",
      "100%|██████████████████████████████████████████████████████████████████████████████████████████████████████████| 101/101 [00:14<00:00,  6.97it/s]\n",
      "100%|██████████████████████████████████████████████████████████████████████████████████████████████████████████| 101/101 [00:14<00:00,  7.14it/s]\n",
      " 56%|████████████████████████████████████████████████████████████▍                                              | 57/101 [00:04<00:06,  6.80it/s]"
     ]
    },
    {
     "name": "stdout",
     "output_type": "stream",
     "text": [
      "Frame 14200 in 20001 \n",
      "\n"
     ]
    },
    {
     "name": "stderr",
     "output_type": "stream",
     "text": [
      " 59%|███████████████████████████████████████████████████████████████▌                                           | 60/101 [00:05<00:06,  6.44it/s]"
     ]
    },
    {
     "name": "stdout",
     "output_type": "stream",
     "text": [
      "Frame 12800 in 20001 \n",
      "\n"
     ]
    },
    {
     "name": "stderr",
     "output_type": "stream",
     "text": [
      " 20%|█████████████████████▏                                                                                     | 20/101 [00:00<00:04, 18.62it/s]"
     ]
    },
    {
     "name": "stdout",
     "output_type": "stream",
     "text": [
      "Frame 15600 in 20001 \n",
      "\n"
     ]
    },
    {
     "name": "stderr",
     "output_type": "stream",
     "text": [
      "100%|██████████████████████████████████████████████████████████████████████████████████████████████████████████| 101/101 [00:15<00:00,  6.68it/s]\n",
      " 98%|████████████████████████████████████████████████████████████████████████████████████████████████████████▉  | 99/101 [00:14<00:00,  3.76it/s]"
     ]
    },
    {
     "name": "stdout",
     "output_type": "stream",
     "text": [
      "Frame 11600 in 20001 \n",
      "\n"
     ]
    },
    {
     "name": "stderr",
     "output_type": "stream",
     "text": [
      "100%|██████████████████████████████████████████████████████████████████████████████████████████████████████████| 101/101 [00:14<00:00,  6.78it/s]\n",
      "100%|██████████████████████████████████████████████████████████████████████████████████████████████████████████| 101/101 [00:14<00:00,  6.83it/s]\n",
      "100%|██████████████████████████████████████████████████████████████████████████████████████████████████████████| 101/101 [00:14<00:00,  6.98it/s]\n",
      " 62%|██████████████████████████████████████████████████████████████████▋                                        | 63/101 [00:05<00:05,  7.12it/s]"
     ]
    },
    {
     "name": "stdout",
     "output_type": "stream",
     "text": [
      "Frame 15800 in 20001 \n",
      "\n"
     ]
    },
    {
     "name": "stderr",
     "output_type": "stream",
     "text": [
      " 66%|██████████████████████████████████████████████████████████████████████▉                                    | 67/101 [00:06<00:05,  5.86it/s]"
     ]
    },
    {
     "name": "stdout",
     "output_type": "stream",
     "text": [
      "Frame 14400 in 20001 \n",
      "\n"
     ]
    },
    {
     "name": "stderr",
     "output_type": "stream",
     "text": [
      "  6%|██████▍                                                                                                     | 6/101 [00:00<00:03, 27.62it/s]"
     ]
    },
    {
     "name": "stdout",
     "output_type": "stream",
     "text": [
      "Frame 13000 in 20001 \n",
      "\n"
     ]
    },
    {
     "name": "stderr",
     "output_type": "stream",
     "text": [
      "100%|██████████████████████████████████████████████████████████████████████████████████████████████████████████| 101/101 [00:15<00:00,  6.68it/s]\n",
      " 95%|█████████████████████████████████████████████████████████████████████████████████████████████████████▋     | 96/101 [00:13<00:01,  4.10it/s]"
     ]
    },
    {
     "name": "stdout",
     "output_type": "stream",
     "text": [
      "Frame 11800 in 20001 \n",
      "\n"
     ]
    },
    {
     "name": "stderr",
     "output_type": "stream",
     "text": [
      "100%|██████████████████████████████████████████████████████████████████████████████████████████████████████████| 101/101 [00:14<00:00,  6.92it/s]\n",
      "100%|██████████████████████████████████████████████████████████████████████████████████████████████████████████| 101/101 [00:14<00:00,  6.82it/s]\n",
      "100%|██████████████████████████████████████████████████████████████████████████████████████████████████████████| 101/101 [00:14<00:00,  6.81it/s]\n",
      " 57%|█████████████████████████████████████████████████████████████▍                                             | 58/101 [00:04<00:06,  7.05it/s]"
     ]
    },
    {
     "name": "stdout",
     "output_type": "stream",
     "text": [
      "Frame 16000 in 20001 \n",
      "\n"
     ]
    },
    {
     "name": "stderr",
     "output_type": "stream",
     "text": [
      " 24%|█████████████████████████▍                                                                                 | 24/101 [00:01<00:04, 16.23it/s]"
     ]
    },
    {
     "name": "stdout",
     "output_type": "stream",
     "text": [
      "Frame 14600 in 20001 \n",
      "\n"
     ]
    },
    {
     "name": "stderr",
     "output_type": "stream",
     "text": [
      "  5%|█████▎                                                                                                      | 5/101 [00:00<00:02, 39.82it/s]"
     ]
    },
    {
     "name": "stdout",
     "output_type": "stream",
     "text": [
      "Frame 13200 in 20001 \n",
      "\n"
     ]
    },
    {
     "name": "stderr",
     "output_type": "stream",
     "text": [
      "100%|██████████████████████████████████████████████████████████████████████████████████████████████████████████| 101/101 [00:14<00:00,  7.18it/s]\n",
      " 96%|██████████████████████████████████████████████████████████████████████████████████████████████████████▊    | 97/101 [00:13<00:00,  4.20it/s]"
     ]
    },
    {
     "name": "stdout",
     "output_type": "stream",
     "text": [
      "Frame 12000 in 20001 \n",
      "\n"
     ]
    },
    {
     "name": "stderr",
     "output_type": "stream",
     "text": [
      "100%|██████████████████████████████████████████████████████████████████████████████████████████████████████████| 101/101 [00:14<00:00,  6.86it/s]\n",
      "100%|██████████████████████████████████████████████████████████████████████████████████████████████████████████| 101/101 [00:14<00:00,  7.19it/s]\n",
      "100%|██████████████████████████████████████████████████████████████████████████████████████████████████████████| 101/101 [00:13<00:00,  7.25it/s]\n",
      " 60%|████████████████████████████████████████████████████████████████▌                                          | 61/101 [00:05<00:06,  6.66it/s]"
     ]
    },
    {
     "name": "stdout",
     "output_type": "stream",
     "text": [
      "Frame 16200 in 20001 \n",
      "\n"
     ]
    },
    {
     "name": "stderr",
     "output_type": "stream",
     "text": [
      " 11%|███████████▋                                                                                               | 11/101 [00:00<00:03, 27.64it/s]"
     ]
    },
    {
     "name": "stdout",
     "output_type": "stream",
     "text": [
      "Frame 13400 in 20001 \n",
      "\n"
     ]
    },
    {
     "name": "stderr",
     "output_type": "stream",
     "text": [
      " 17%|██████████████████                                                                                         | 17/101 [00:00<00:03, 21.35it/s]"
     ]
    },
    {
     "name": "stdout",
     "output_type": "stream",
     "text": [
      "Frame 14800 in 20001 \n",
      "\n"
     ]
    },
    {
     "name": "stderr",
     "output_type": "stream",
     "text": [
      "100%|██████████████████████████████████████████████████████████████████████████████████████████████████████████| 101/101 [00:14<00:00,  7.11it/s]\n",
      " 93%|███████████████████████████████████████████████████████████████████████████████████████████████████▌       | 94/101 [00:12<00:01,  4.11it/s]"
     ]
    },
    {
     "name": "stdout",
     "output_type": "stream",
     "text": [
      "Frame 12200 in 20001 \n",
      "\n"
     ]
    },
    {
     "name": "stderr",
     "output_type": "stream",
     "text": [
      "100%|██████████████████████████████████████████████████████████████████████████████████████████████████████████| 101/101 [00:14<00:00,  7.20it/s]\n",
      "100%|██████████████████████████████████████████████████████████████████████████████████████████████████████████| 101/101 [00:13<00:00,  7.41it/s]\n",
      "100%|██████████████████████████████████████████████████████████████████████████████████████████████████████████| 101/101 [00:14<00:00,  6.98it/s]\n",
      " 61%|█████████████████████████████████████████████████████████████████▋                                         | 62/101 [00:04<00:04,  7.85it/s]"
     ]
    },
    {
     "name": "stdout",
     "output_type": "stream",
     "text": [
      "Frame 16400 in 20001 \n",
      "\n"
     ]
    },
    {
     "name": "stderr",
     "output_type": "stream",
     "text": [
      " 20%|█████████████████████▏                                                                                     | 20/101 [00:00<00:04, 18.35it/s]"
     ]
    },
    {
     "name": "stdout",
     "output_type": "stream",
     "text": [
      "Frame 13600 in 20001 \n",
      "\n"
     ]
    },
    {
     "name": "stderr",
     "output_type": "stream",
     "text": [
      " 28%|█████████████████████████████▋                                                                             | 28/101 [00:01<00:04, 15.11it/s]"
     ]
    },
    {
     "name": "stdout",
     "output_type": "stream",
     "text": [
      "Frame 15000 in 20001 \n",
      "\n"
     ]
    },
    {
     "name": "stderr",
     "output_type": "stream",
     "text": [
      "100%|██████████████████████████████████████████████████████████████████████████████████████████████████████████| 101/101 [00:14<00:00,  7.19it/s]\n",
      " 98%|████████████████████████████████████████████████████████████████████████████████████████████████████████▉  | 99/101 [00:13<00:00,  3.67it/s]"
     ]
    },
    {
     "name": "stdout",
     "output_type": "stream",
     "text": [
      "Frame 12400 in 20001 \n",
      "\n"
     ]
    },
    {
     "name": "stderr",
     "output_type": "stream",
     "text": [
      "100%|██████████████████████████████████████████████████████████████████████████████████████████████████████████| 101/101 [00:14<00:00,  7.21it/s]\n",
      "100%|██████████████████████████████████████████████████████████████████████████████████████████████████████████| 101/101 [00:14<00:00,  7.06it/s]\n",
      "100%|██████████████████████████████████████████████████████████████████████████████████████████████████████████| 101/101 [00:14<00:00,  6.80it/s]\n",
      " 58%|██████████████████████████████████████████████████████████████▌                                            | 59/101 [00:04<00:06,  6.52it/s]"
     ]
    },
    {
     "name": "stdout",
     "output_type": "stream",
     "text": [
      "Frame 16600 in 20001 \n",
      "\n"
     ]
    },
    {
     "name": "stderr",
     "output_type": "stream",
     "text": [
      " 30%|███████████████████████████████▊                                                                           | 30/101 [00:01<00:05, 13.90it/s]"
     ]
    },
    {
     "name": "stdout",
     "output_type": "stream",
     "text": [
      "Frame 13800 in 20001 \n",
      "\n"
     ]
    },
    {
     "name": "stderr",
     "output_type": "stream",
     "text": [
      " 73%|██████████████████████████████████████████████████████████████████████████████▍                            | 74/101 [00:07<00:04,  5.68it/s]"
     ]
    },
    {
     "name": "stdout",
     "output_type": "stream",
     "text": [
      "Frame 15200 in 20001 \n",
      "\n"
     ]
    },
    {
     "name": "stderr",
     "output_type": "stream",
     "text": [
      "100%|██████████████████████████████████████████████████████████████████████████████████████████████████████████| 101/101 [00:14<00:00,  7.15it/s]\n",
      " 92%|██████████████████████████████████████████████████████████████████████████████████████████████████▌        | 93/101 [00:11<00:02,  3.65it/s]"
     ]
    },
    {
     "name": "stdout",
     "output_type": "stream",
     "text": [
      "Frame 16800 in 20001 \n",
      "\n"
     ]
    },
    {
     "name": "stderr",
     "output_type": "stream",
     "text": [
      "100%|██████████████████████████████████████████████████████████████████████████████████████████████████████████| 101/101 [00:14<00:00,  6.87it/s]\n",
      "100%|██████████████████████████████████████████████████████████████████████████████████████████████████████████| 101/101 [00:13<00:00,  7.33it/s]\n",
      "100%|██████████████████████████████████████████████████████████████████████████████████████████████████████████| 101/101 [00:13<00:00,  7.23it/s]\n",
      " 59%|███████████████████████████████████████████████████████████████▌                                           | 60/101 [00:05<00:06,  6.49it/s]"
     ]
    },
    {
     "name": "stdout",
     "output_type": "stream",
     "text": [
      "Frame 18200 in 20001 \n",
      "\n"
     ]
    },
    {
     "name": "stderr",
     "output_type": "stream",
     "text": [
      " 63%|███████████████████████████████████████████████████████████████████▊                                       | 64/101 [00:05<00:05,  6.47it/s]"
     ]
    },
    {
     "name": "stdout",
     "output_type": "stream",
     "text": [
      "Frame 19600 in 20001 \n",
      "\n"
     ]
    },
    {
     "name": "stderr",
     "output_type": "stream",
     "text": [
      "100%|██████████████████████████████████████████████████████████████████████████████████████████████████████████| 101/101 [00:13<00:00,  7.59it/s]\n",
      " 96%|██████████████████████████████████████████████████████████████████████████████████████████████████████▊    | 97/101 [00:11<00:00,  4.59it/s]"
     ]
    },
    {
     "name": "stdout",
     "output_type": "stream",
     "text": [
      "Frame 17000 in 20001 \n",
      "\n"
     ]
    },
    {
     "name": "stderr",
     "output_type": "stream",
     "text": [
      "100%|██████████████████████████████████████████████████████████████████████████████████████████████████████████| 101/101 [00:12<00:00,  7.78it/s]\n",
      "100%|██████████████████████████████████████████████████████████████████████████████████████████████████████████| 101/101 [00:13<00:00,  7.54it/s]\n",
      " 62%|██████████████████████████████████████████████████████████████████▋                                        | 63/101 [00:05<00:06,  6.32it/s]"
     ]
    },
    {
     "name": "stdout",
     "output_type": "stream",
     "text": [
      "Frame 18400 in 20001 \n",
      "\n"
     ]
    },
    {
     "name": "stderr",
     "output_type": "stream",
     "text": [
      " 20%|█████████████████████▏                                                                                     | 20/101 [00:00<00:03, 21.24it/s]"
     ]
    },
    {
     "name": "stdout",
     "output_type": "stream",
     "text": [
      "Frame 19800 in 20001 \n",
      "\n"
     ]
    },
    {
     "name": "stderr",
     "output_type": "stream",
     "text": [
      "100%|██████████████████████████████████████████████████████████████████████████████████████████████████████████| 101/101 [00:13<00:00,  7.54it/s]\n",
      "100%|██████████████████████████████████████████████████████████████████████████████████████████████████████████| 101/101 [00:12<00:00,  8.03it/s]\n",
      " 92%|██████████████████████████████████████████████████████████████████████████████████████████████████▌        | 93/101 [00:11<00:01,  4.13it/s]"
     ]
    },
    {
     "name": "stdout",
     "output_type": "stream",
     "text": [
      "Frame 17200 in 20001 \n",
      "\n"
     ]
    },
    {
     "name": "stderr",
     "output_type": "stream",
     "text": [
      "100%|██████████████████████████████████████████████████████████████████████████████████████████████████████████| 101/101 [00:13<00:00,  7.51it/s]\n",
      " 52%|████████████████████████████████████████████████████████▏                                                  | 53/101 [00:03<00:04,  9.78it/s]"
     ]
    },
    {
     "name": "stdout",
     "output_type": "stream",
     "text": [
      "Frame 18600 in 20001 \n",
      "\n"
     ]
    },
    {
     "name": "stderr",
     "output_type": "stream",
     "text": [
      " 72%|█████████████████████████████████████████████████████████████████████████████▎                             | 73/101 [00:06<00:04,  6.11it/s]"
     ]
    },
    {
     "name": "stdout",
     "output_type": "stream",
     "text": [
      "Frame 20000 in 20001 \n",
      "\n"
     ]
    },
    {
     "name": "stderr",
     "output_type": "stream",
     "text": [
      "100%|██████████████████████████████████████████████████████████████████████████████████████████████████████████| 101/101 [00:13<00:00,  7.57it/s]\n",
      " 98%|████████████████████████████████████████████████████████████████████████████████████████████████████████▉  | 99/101 [00:13<00:00,  4.81it/s]"
     ]
    },
    {
     "name": "stdout",
     "output_type": "stream",
     "text": [
      "Frame 17400 in 20001 \n",
      "\n"
     ]
    },
    {
     "name": "stderr",
     "output_type": "stream",
     "text": [
      "100%|██████████████████████████████████████████████████████████████████████████████████████████████████████████| 101/101 [00:14<00:00,  7.11it/s]\n",
      "100%|██████████████████████████████████████████████████████████████████████████████████████████████████████████| 101/101 [00:13<00:00,  7.53it/s]\n",
      " 58%|██████████████████████████████████████████████████████████████▌                                            | 59/101 [00:04<00:04, 10.31it/s]"
     ]
    },
    {
     "name": "stdout",
     "output_type": "stream",
     "text": [
      "Frame 18800 in 20001 \n",
      "\n"
     ]
    },
    {
     "name": "stderr",
     "output_type": "stream",
     "text": [
      "100%|██████████████████████████████████████████████████████████████████████████████████████████████████████████| 101/101 [00:11<00:00,  9.07it/s]\n",
      " 96%|██████████████████████████████████████████████████████████████████████████████████████████████████████▊    | 97/101 [00:10<00:00,  5.67it/s]"
     ]
    },
    {
     "name": "stdout",
     "output_type": "stream",
     "text": [
      "Frame 17600 in 20001 \n",
      "\n"
     ]
    },
    {
     "name": "stderr",
     "output_type": "stream",
     "text": [
      "100%|██████████████████████████████████████████████████████████████████████████████████████████████████████████| 101/101 [00:10<00:00,  9.26it/s]\n",
      " 58%|██████████████████████████████████████████████████████████████▌                                            | 59/101 [00:04<00:05,  8.08it/s]"
     ]
    },
    {
     "name": "stdout",
     "output_type": "stream",
     "text": [
      "Frame 19000 in 20001 \n",
      "\n"
     ]
    },
    {
     "name": "stderr",
     "output_type": "stream",
     "text": [
      "100%|██████████████████████████████████████████████████████████████████████████████████████████████████████████| 101/101 [00:11<00:00,  8.96it/s]\n",
      " 97%|███████████████████████████████████████████████████████████████████████████████████████████████████████▊   | 98/101 [00:10<00:00,  6.00it/s]"
     ]
    },
    {
     "name": "stdout",
     "output_type": "stream",
     "text": [
      "Frame 17800 in 20001 \n",
      "\n"
     ]
    },
    {
     "name": "stderr",
     "output_type": "stream",
     "text": [
      "100%|██████████████████████████████████████████████████████████████████████████████████████████████████████████| 101/101 [00:11<00:00,  9.17it/s]\n",
      " 60%|████████████████████████████████████████████████████████████████▌                                          | 61/101 [00:03<00:04,  9.45it/s]"
     ]
    },
    {
     "name": "stdout",
     "output_type": "stream",
     "text": [
      "Frame 19200 in 20001 \n",
      "\n"
     ]
    },
    {
     "name": "stderr",
     "output_type": "stream",
     "text": [
      "100%|██████████████████████████████████████████████████████████████████████████████████████████████████████████| 101/101 [00:10<00:00,  9.43it/s]\n",
      " 95%|█████████████████████████████████████████████████████████████████████████████████████████████████████▋     | 96/101 [00:10<00:00,  5.61it/s]"
     ]
    },
    {
     "name": "stdout",
     "output_type": "stream",
     "text": [
      "Frame 18000 in 20001 \n",
      "\n"
     ]
    },
    {
     "name": "stderr",
     "output_type": "stream",
     "text": [
      "100%|██████████████████████████████████████████████████████████████████████████████████████████████████████████| 101/101 [00:11<00:00,  8.74it/s]\n",
      " 61%|█████████████████████████████████████████████████████████████████▋                                         | 62/101 [00:04<00:04,  8.95it/s]"
     ]
    },
    {
     "name": "stdout",
     "output_type": "stream",
     "text": [
      "Frame 19400 in 20001 \n",
      "\n"
     ]
    },
    {
     "name": "stderr",
     "output_type": "stream",
     "text": [
      "100%|██████████████████████████████████████████████████████████████████████████████████████████████████████████| 101/101 [00:11<00:00,  8.80it/s]\n",
      "100%|██████████████████████████████████████████████████████████████████████████████████████████████████████████| 101/101 [00:11<00:00,  8.90it/s]\n",
      "/home/yadav129/anaconda3/lib/python3.9/site-packages/seaborn/distributions.py:2619: FutureWarning: `distplot` is a deprecated function and will be removed in a future version. Please adapt your code to use either `displot` (a figure-level function with similar flexibility) or `histplot` (an axes-level function for histograms).\n",
      "  warnings.warn(msg, FutureWarning)\n"
     ]
    },
    {
     "data": {
      "image/png": "[encoded data removed]",
      "text/plain": [
       "<Figure size 432x288 with 1 Axes>"
      ]
     },
     "metadata": {
      "needs_background": "light"
     },
     "output_type": "display_data"
    }
   ],
   "source": [
    "if __name__      ==  \"__main__\":\n",
    "   \n",
    "    ref_structure=\"ALK1_50_CG3_01_npt_eq.pdb\"\n",
    "    traj         =\"ALK1_50_CG3_01_protein_final.xtc\"\n",
    "    Name         ='ALK1_50_CG3_01'\n",
    "    \n",
    "    u            = mda.Universe(ref_structure,traj)\n",
    "    ref          = mda.Universe(ref_structure)\n",
    "    #frames       = len(u.trajectory)\n",
    "    \n",
    "    topology     = md.load(ref_structure).topology\n",
    "    trajectory   = md.load(traj, top=ref_structure)\n",
    "    frames       = trajectory.n_frames #Number of frames\n",
    "    chains       = topology.n_chains   #Number of chains\n",
    "    atoms        = int(topology.n_atoms/chains)#Number of atoms in each monomer \n",
    "    AminoAcids   = int(topology.n_residues/chains) #Number of residues per chain \n",
    "    \n",
    "    res          = 'LYS'    \n",
    "    sel1         = 'resname %s and name BB'%res\n",
    "\n",
    "    print (\"There are {} chains and each has {} number of AminoAcids\".format(AminoAcids,chains))\n",
    "    \n",
    "    \n",
    "    start_f      = 0\n",
    "    skip         = 200\n",
    "    end_f        = frames  \n",
    "    nprocs       = 4\n",
    "    n_frames     = np.arange(start_f, end_f)[::skip]\n",
    "    pool         = mp.Pool(processes=nprocs)\n",
    "    \n",
    "    print ('Initiating multiprocessing with %i processors'%nprocs)\n",
    "    \n",
    "    Tetra        = pool.map(Delaunay_Tessellation,n_frames) \n",
    "    Histogram(Tetra)    "
   ]
  },
  {
   "cell_type": "markdown",
   "metadata": {},
   "source": [
    " atom_Groups[i][0].positions[j],atom_Groups[i][0].positions[k],atom_Groups[i][0].resids)\n",
    "                    chain1.append(atom_Groups[i][0].positions[j])\n",
    "                    chain2.append(atom_Groups[i][0].positions[k])\n",
    "                    coords = np.concatenate((np.array(chain1), np.array(chain2)), axis=0) \n",
    "                    print (coords)"
   ]
  }
 ],
 "metadata": {
  "kernelspec": {
   "display_name": "Python 3 (ipykernel)",
   "language": "python",
   "name": "python3"
  },
  "language_info": {
   "codemirror_mode": {
    "name": "ipython",
    "version": 3
   },
   "file_extension": ".py",
   "mimetype": "text/x-python",
   "name": "python",
   "nbconvert_exporter": "python",
   "pygments_lexer": "ipython3",
   "version": "3.9.7"
  },
  "vscode": {
   "interpreter": {
    "hash": "916dbcbb3f70747c44a77c7bcd40155683ae19c65e1c03b4aa3499c5328201f1"
   }
  }
 },
 "nbformat": 4,
 "nbformat_minor": 2
}
