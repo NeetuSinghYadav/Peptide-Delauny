{
 "cells": [
  {
   "cell_type": "code",
   "execution_count": 1,
   "id": "817a0ba5",
   "metadata": {},
   "outputs": [],
   "source": [
    "import numpy as np\n",
    "import numpy.linalg\n",
    "import scipy.stats\n",
    "import MDAnalysis as mda\n",
    "import mdtraj as md\n",
    "import MDAnalysis.lib.distances\n",
    "import math\n",
    "from tqdm import tqdm\n",
    "import matplotlib.pyplot as plt\n",
    "import MDAnalysis.lib.NeighborSearch as NS\n",
    "from scipy.spatial import Voronoi, voronoi_plot_2d, SphericalVoronoi, Delaunay\n",
    "import multiprocessing as mp\n",
    "import pandas as pd\n",
    "import seaborn as sns"
   ]
  },
  {
   "cell_type": "code",
   "execution_count": 2,
   "id": "366ec435",
   "metadata": {},
   "outputs": [
    {
     "name": "stderr",
     "output_type": "stream",
     "text": [
      "/home/yadav129/anaconda3/lib/python3.9/site-packages/MDAnalysis/topology/PDBParser.py:317: UserWarning: Element information is missing, elements attribute will not be populated. If needed these can be guessed using MDAnalysis.topology.guessers.\n",
      "  warnings.warn(\"Element information is missing, elements attribute \"\n"
     ]
    }
   ],
   "source": [
    "ref_structure=\"ALK1_50_CG3_01_npt_eq.pdb\"\n",
    "traj         =\"ALK1_50_CG3_01_protein_final.xtc\"\n",
    "Name         ='ALK1_50_CG3_01'\n",
    "u            = mda.Universe(ref_structure,traj)\n",
    "ref          = mda.Universe(ref_structure)\n",
    "    #frames       = len(u.trajectory)\n",
    "    \n",
    "topology     = md.load(ref_structure).topology\n",
    "trajectory   = md.load(traj, top=ref_structure)\n",
    "frames       = trajectory.n_frames #Number of frames\n",
    "chains       = topology.n_chains   #Number of chains\n",
    "atoms        = int(topology.n_atoms/chains)#Number of atoms in each monomer \n",
    "AminoAcids   = int(topology.n_residues/chains) #Number of residues per chain \n",
    "    \n",
    "res          = 'LYS'    \n",
    "sel1         = 'resname %s and name BB'%res    "
   ]
  },
  {
   "cell_type": "markdown",
   "id": "d9481e0d",
   "metadata": {},
   "source": [
    "RES_Sel   =ref.select_atoms('bynum '+ str(0) + ':' + str(atoms) +' and name BB' +' and resname LYS').center_of_mass()\n",
    "#num_res   =len(list(RES_Sel.residues.resnames))\n",
    "\n",
    "RES_Sel"
   ]
  },
  {
   "cell_type": "markdown",
   "id": "9f3acc7c",
   "metadata": {},
   "source": [
    "def GetCoordsCOM(ts):\n",
    "    \n",
    "    points=[]\n",
    "    RES_Sel   =ref.select_atoms('bynum '+ str(0) + ':' + str(atoms) +' and name BB' +' and resname LYS').center_of_mass()\n",
    "    #num_res   =len(list(RES_Sel.residues.resnames))\n",
    "\n",
    "    atoms3    = u.select_atoms(sel1)\n",
    "    chain1    = []\n",
    "    chain2    = []\n",
    "    #print (sel1.positions)\n",
    "    \n",
    "\n",
    "    atom_Groups = [[] for x in range(chains)]\n",
    "    m_start     = 0\n",
    "    for m in range(0,chains):\n",
    "        m_end   = atoms * (m+1)\n",
    "        atom_Groups[m].extend([u.select_atoms('bynum '+ str(m_start) + ':' + str(m_end) +' and name BB' +' and resname LYS')]) \n",
    "        m_start = m_end + 1\n",
    "        mySet   = set([])   \n",
    "         \n",
    "        #print (atom_Groups[m][0].center_of_mass())\n",
    "        points.append(atom_Groups[m][0].center_of_mass())\n",
    "    return points\n",
    "       "
   ]
  },
  {
   "cell_type": "code",
   "execution_count": 3,
   "id": "230b8f79",
   "metadata": {},
   "outputs": [],
   "source": [
    "def GetCoordsCOM(ts):\n",
    "    timestep=200\n",
    "    \n",
    "    points = []\n",
    "    \n",
    "    RES_Sel   =ref.select_atoms('bynum '+ str(0) + ':' + str(atoms) +' and name BB' +' and resname LYS')\n",
    "    num_res   =len(list(RES_Sel.residues.resnames))\n",
    "\n",
    "    atoms3    = u.select_atoms(sel1)\n",
    "    chain1    = []\n",
    "    chain2    = []\n",
    "    #print (sel1.positions)\n",
    "    \n",
    "    for tt in tqdm(u.trajectory[::timestep]):\n",
    "        atom_Groups = [[] for x in range(chains)]\n",
    "        m_start     = 0\n",
    "        for m in range(0,chains):\n",
    "            m_end   = atoms * (m+1)\n",
    "            atom_Groups[m].extend([u.select_atoms('bynum '+ str(m_start) + ':' + str(m_end) +' and name BB' +' and resname LYS')]) \n",
    "            m_start = m_end + 1\n",
    "            mySet   = set([])   \n",
    "            \n",
    "            \n",
    "            points.append(atom_Groups[m][0].center_of_mass())\n",
    "    return points"
   ]
  },
  {
   "cell_type": "code",
   "execution_count": 4,
   "id": "a3853687",
   "metadata": {},
   "outputs": [],
   "source": [
    "def EdgeLength(A,B):\n",
    "    dist=math.sqrt( ((float(A[0]) -float(B[0]))**2 ) +  ((float(A[1]) -float(B[1]))**2 ) + ((float(A[2]) -float(B[2]))**2 )   )\n",
    "    return dist"
   ]
  },
  {
   "cell_type": "code",
   "execution_count": 5,
   "id": "83da0e7e",
   "metadata": {},
   "outputs": [],
   "source": [
    "def Delaunay_Tessellation(ts):\n",
    "    print ('Frame %i in %i \\n'%(ts, end_f))\n",
    "    points = GetCoordsCOM(ts)\n",
    "    tri    = Delaunay(points)   \n",
    "    \n",
    "    #plt.plot(points[:, 0], points[:, 1], points[:, 2], c='b', linestyle='dashed')\n",
    "    #plt.plot(sv.vertices[:, 0], sv.vertices[:, 1], sv.vertices[:, 2], c='g')\n",
    "    #plt.show()\n",
    "    #print (\"shape\", tri.simplices.shape)\n",
    "    #print (\"#\",tri.simplices)\n",
    "    #tri.simplices[0]\n",
    "    #print (\"#\",tri.neighbors)\n",
    "    #points[tri.simplices]\n",
    "\n",
    "    ridge_points   = tri.simplices\n",
    "    r_length       = len(ridge_points)\n",
    "    tetrahedrality = []\n",
    "    for k in range(0, r_length):\n",
    "        \n",
    "        sum_edge       = 0\n",
    "        sumd           = 0\n",
    "        tetra          = 0\n",
    "        lbar           = 0\n",
    "        ridge_k = ridge_points[k]\n",
    "        L0 = points[int(ridge_k[0])]\n",
    "        L1 = points[int(ridge_k[1])] \n",
    "        L2 = points[int(ridge_k[2])] \n",
    "        L3 = points[int(ridge_k[3])]   \n",
    "        #print (ridge_k, L0, L1, L2, L3) \n",
    "        \n",
    "        L01 = EdgeLength(L0,L1)\n",
    "        L02 = EdgeLength(L0,L2)\n",
    "        L03 = EdgeLength(L0,L3)\n",
    "        L12 = EdgeLength(L1,L2)\n",
    "        L13 = EdgeLength(L1,L3)\n",
    "        L23 = EdgeLength(L2,L3)\n",
    "        \n",
    "        sumd += L01 + L02 + L03 + L12 + L13 + L23 \n",
    "        lbar= sumd/15.0\n",
    "        \n",
    "        a1  = EdgeLength(L0,L1) - EdgeLength(L0,L2)\n",
    "        a2  = EdgeLength(L0,L1) - EdgeLength(L0,L3)\n",
    "        a3  = EdgeLength(L0,L1) - EdgeLength(L1,L2)\n",
    "        a4  = EdgeLength(L0,L1) - EdgeLength(L1,L3)\n",
    "        a5  = EdgeLength(L0,L1) - EdgeLength(L2,L3)\n",
    "        \n",
    "        a6  = EdgeLength(L0,L2) - EdgeLength(L0,L3)\n",
    "        a7  = EdgeLength(L0,L2) - EdgeLength(L1,L2)\n",
    "        a8  = EdgeLength(L0,L2) - EdgeLength(L1,L3)\n",
    "        a9  = EdgeLength(L0,L2) - EdgeLength(L2,L3)\n",
    "        \n",
    "        a10 = EdgeLength(L0,L3) - EdgeLength(L1,L2)\n",
    "        a11 = EdgeLength(L0,L3) - EdgeLength(L1,L2)\n",
    "        a12 = EdgeLength(L0,L3) - EdgeLength(L1,L2)\n",
    "        \n",
    "        a13 = EdgeLength(L1,L2) - EdgeLength(L1,L3)\n",
    "        a14 = EdgeLength(L1,L2) - EdgeLength(L2,L3)\n",
    "        \n",
    "        a15 = EdgeLength(L1,L3) - EdgeLength(L2,L3)\n",
    "        \n",
    "        \n",
    "        sum_edge += a1*a1 + a2*a2 + a3*a3 + a4*a4 + a5*a5 + a6*a6 + a7*a7 + a8*a8 + a9*a9 + a10*a10  + a11*a11 + a12*a12 + a13*a13 + a14*a14 + a15*a15    \n",
    "        \n",
    "        tetra = sum_edge/(15*lbar*lbar) \n",
    "        #print (\"lbar\", lbar, \"sumd\", sumd, \"sum_edge\", sum_edge, \"tet\", tetra)\n",
    "        tetrahedrality.append(tetra) \n",
    "        \n",
    "    return (tetrahedrality)"
   ]
  },
  {
   "cell_type": "code",
   "execution_count": 6,
   "id": "80f0cc19",
   "metadata": {},
   "outputs": [],
   "source": [
    "def Histogram(data):\n",
    "    mat   = np.asarray(pd.DataFrame(data)).flatten()\n",
    "    mat1  = mat[np.logical_not(np.isnan(mat))]\n",
    "    \n",
    "    np.savetxt(Name+'_Tetrahedrality.dat', mat1, header=Name)\n",
    "    \n",
    "    ax    = sns.distplot(mat1, hist=True, kde=True, color=\"r\", label=Name, hist_kws={ \"alpha\":1, \"linewidth\": 3})\n",
    "    ax.set_ylabel(\"Probability\")\n",
    "    ax.set_xlabel(\"T\")\n",
    "    ax.set_title(\"Tetrahedrality\", fontsize='large')\n",
    "    ax.legend()\n",
    "    plt.savefig(Name+\"_Tetrahedrality.png\", dpi=600, facecolor='w', edgecolor='w',orientation='portrait')   \n",
    "    #plt.show()"
   ]
  },
  {
   "cell_type": "code",
   "execution_count": null,
   "id": "eb383ec4",
   "metadata": {},
   "outputs": [
    {
     "name": "stdout",
     "output_type": "stream",
     "text": [
      "There are 16 chains and each has 50 number of AminoAcids\n",
      "Frame 0 in 20001 \n",
      "Frame 1400 in 20001 \n",
      "Frame 4200 in 20001 \n",
      "Frame 2800 in 20001 \n",
      "\n",
      "\n",
      "\n"
     ]
    },
    {
     "name": "stderr",
     "output_type": "stream",
     "text": [
      "\r",
      "  0%|                                                                                                                    | 0/101 [00:00<?, ?it/s]"
     ]
    },
    {
     "name": "stdout",
     "output_type": "stream",
     "text": [
      "\n"
     ]
    },
    {
     "name": "stderr",
     "output_type": "stream",
     "text": [
      "  0%|                                                                                                                    | 0/101 [00:00<?, ?it/s]"
     ]
    },
    {
     "name": "stdout",
     "output_type": "stream",
     "text": [
      "Initiating multiprocessing with 4 processors\n"
     ]
    },
    {
     "name": "stderr",
     "output_type": "stream",
     "text": [
      " 32%|█████████████████████████████████▉                                                                         | 32/101 [00:01<00:02, 32.17it/s]malloc(): invalid size (unsorted)\n",
      "free(): invalid next size (normal)\n",
      " 36%|██████████████████████████████████████▏                                                                    | 36/101 [00:01<00:01, 32.75it/s]"
     ]
    },
    {
     "name": "stdout",
     "output_type": "stream",
     "text": [
      "Frame 5600 in 20001 \n",
      "\n",
      "Frame 7000 in 20001 \n",
      "\n"
     ]
    },
    {
     "name": "stderr",
     "output_type": "stream",
     "text": [
      " 51%|███████████████████████████████████████████████████████                                                    | 52/101 [00:01<00:01, 32.14it/s]malloc(): invalid size (unsorted)\n",
      "double free or corruption (!prev)\n"
     ]
    },
    {
     "name": "stdout",
     "output_type": "stream",
     "text": [
      "Frame 8400 in 20001 \n",
      "\n"
     ]
    },
    {
     "name": "stderr",
     "output_type": "stream",
     "text": [
      "\r",
      "  0%|                                                                                                                    | 0/101 [00:00<?, ?it/s]"
     ]
    },
    {
     "name": "stdout",
     "output_type": "stream",
     "text": [
      "Frame 9800 in 20001 \n",
      "\n"
     ]
    },
    {
     "name": "stderr",
     "output_type": "stream",
     "text": [
      "100%|██████████████████████████████████████████████████████████████████████████████████████████████████████████| 101/101 [00:03<00:00, 31.59it/s]\n",
      "100%|██████████████████████████████████████████████████████████████████████████████████████████████████████████| 101/101 [00:03<00:00, 30.82it/s]\n",
      "100%|██████████████████████████████████████████████████████████████████████████████████████████████████████████| 101/101 [00:03<00:00, 32.89it/s]\n",
      "100%|██████████████████████████████████████████████████████████████████████████████████████████████████████████| 101/101 [00:03<00:00, 32.35it/s]\n"
     ]
    },
    {
     "name": "stdout",
     "output_type": "stream",
     "text": [
      "Frame 3000 in 20001 \n",
      "\n"
     ]
    },
    {
     "name": "stderr",
     "output_type": "stream",
     "text": [
      " 40%|██████████████████████████████████████████▍                                                                | 40/101 [00:01<00:01, 33.59it/s]"
     ]
    },
    {
     "name": "stdout",
     "output_type": "stream",
     "text": [
      "Frame 7200 in 20001 \n",
      "\n"
     ]
    },
    {
     "name": "stderr",
     "output_type": "stream",
     "text": [
      " 48%|██████████████████████████████████████████████████▊                                                        | 48/101 [00:01<00:01, 32.60it/s]"
     ]
    },
    {
     "name": "stdout",
     "output_type": "stream",
     "text": [
      "Frame 8600 in 20001 \n",
      "\n"
     ]
    },
    {
     "name": "stderr",
     "output_type": "stream",
     "text": [
      "  3%|███▏                                                                                                        | 3/101 [00:00<00:03, 26.70it/s]"
     ]
    },
    {
     "name": "stdout",
     "output_type": "stream",
     "text": [
      "Frame 10000 in 20001 \n",
      "\n"
     ]
    },
    {
     "name": "stderr",
     "output_type": "stream",
     "text": [
      "100%|██████████████████████████████████████████████████████████████████████████████████████████████████████████| 101/101 [00:02<00:00, 33.67it/s]\n",
      "100%|██████████████████████████████████████████████████████████████████████████████████████████████████████████| 101/101 [00:03<00:00, 32.10it/s]\n",
      "100%|██████████████████████████████████████████████████████████████████████████████████████████████████████████| 101/101 [00:02<00:00, 35.14it/s]\n",
      "100%|██████████████████████████████████████████████████████████████████████████████████████████████████████████| 101/101 [00:03<00:00, 31.33it/s]\n"
     ]
    },
    {
     "name": "stdout",
     "output_type": "stream",
     "text": [
      "Frame 3200 in 20001 \n",
      "\n"
     ]
    },
    {
     "name": "stderr",
     "output_type": "stream",
     "text": [
      " 40%|██████████████████████████████████████████▍                                                                | 40/101 [00:01<00:01, 34.29it/s]"
     ]
    },
    {
     "name": "stdout",
     "output_type": "stream",
     "text": [
      "Frame 7400 in 20001 \n",
      "\n"
     ]
    },
    {
     "name": "stderr",
     "output_type": "stream",
     "text": [
      " 63%|███████████████████████████████████████████████████████████████████▊                                       | 64/101 [00:01<00:01, 34.26it/s]"
     ]
    },
    {
     "name": "stdout",
     "output_type": "stream",
     "text": [
      "Frame 10200 in 20001 \n",
      "\n"
     ]
    },
    {
     "name": "stderr",
     "output_type": "stream",
     "text": [
      " 35%|█████████████████████████████████████                                                                      | 35/101 [00:00<00:01, 36.89it/s]"
     ]
    },
    {
     "name": "stdout",
     "output_type": "stream",
     "text": [
      "Frame 8800 in 20001 \n",
      "\n"
     ]
    },
    {
     "name": "stderr",
     "output_type": "stream",
     "text": [
      "100%|██████████████████████████████████████████████████████████████████████████████████████████████████████████| 101/101 [00:03<00:00, 32.52it/s]\n",
      "100%|██████████████████████████████████████████████████████████████████████████████████████████████████████████| 101/101 [00:03<00:00, 33.51it/s]\n",
      "100%|██████████████████████████████████████████████████████████████████████████████████████████████████████████| 101/101 [00:02<00:00, 34.58it/s]\n",
      "100%|██████████████████████████████████████████████████████████████████████████████████████████████████████████| 101/101 [00:03<00:00, 33.12it/s]\n"
     ]
    },
    {
     "name": "stdout",
     "output_type": "stream",
     "text": [
      "Frame 3400 in 20001 \n",
      "\n"
     ]
    },
    {
     "name": "stderr",
     "output_type": "stream",
     "text": [
      " 24%|█████████████████████████▍                                                                                 | 24/101 [00:00<00:02, 33.28it/s]"
     ]
    },
    {
     "name": "stdout",
     "output_type": "stream",
     "text": [
      "Frame 7600 in 20001 \n",
      "\n"
     ]
    },
    {
     "name": "stderr",
     "output_type": "stream",
     "text": [
      " 55%|███████████████████████████████████████████████████████████▎                                               | 56/101 [00:01<00:01, 36.81it/s]"
     ]
    },
    {
     "name": "stdout",
     "output_type": "stream",
     "text": [
      "Frame 10400 in 20001 \n",
      "\n"
     ]
    },
    {
     "name": "stderr",
     "output_type": "stream",
     "text": [
      " 15%|███████████████▉                                                                                           | 15/101 [00:00<00:02, 34.53it/s]"
     ]
    },
    {
     "name": "stdout",
     "output_type": "stream",
     "text": [
      "Frame 9000 in 20001 \n",
      "\n"
     ]
    },
    {
     "name": "stderr",
     "output_type": "stream",
     "text": [
      "100%|██████████████████████████████████████████████████████████████████████████████████████████████████████████| 101/101 [00:03<00:00, 32.64it/s]\n",
      "100%|██████████████████████████████████████████████████████████████████████████████████████████████████████████| 101/101 [00:03<00:00, 33.22it/s]\n",
      "100%|██████████████████████████████████████████████████████████████████████████████████████████████████████████| 101/101 [00:02<00:00, 34.87it/s]\n",
      "100%|██████████████████████████████████████████████████████████████████████████████████████████████████████████| 101/101 [00:02<00:00, 33.73it/s]\n"
     ]
    },
    {
     "name": "stdout",
     "output_type": "stream",
     "text": [
      "Frame 3600 in 20001 \n",
      "\n"
     ]
    },
    {
     "name": "stderr",
     "output_type": "stream",
     "text": [
      " 18%|███████████████████                                                                                        | 18/101 [00:00<00:02, 34.32it/s]"
     ]
    },
    {
     "name": "stdout",
     "output_type": "stream",
     "text": [
      "Frame 7800 in 20001 \n",
      "\n"
     ]
    },
    {
     "name": "stderr",
     "output_type": "stream",
     "text": [
      " 30%|███████████████████████████████▊                                                                           | 30/101 [00:00<00:01, 36.64it/s]"
     ]
    },
    {
     "name": "stdout",
     "output_type": "stream",
     "text": [
      "Frame 10600 in 20001 \n",
      "\n"
     ]
    },
    {
     "name": "stderr",
     "output_type": "stream",
     "text": [
      " 24%|█████████████████████████▍                                                                                 | 24/101 [00:00<00:02, 34.17it/s]"
     ]
    },
    {
     "name": "stdout",
     "output_type": "stream",
     "text": [
      "Frame 9200 in 20001 \n"
     ]
    },
    {
     "name": "stderr",
     "output_type": "stream",
     "text": [
      "\r",
      " 12%|████████████▋                                                                                              | 12/101 [00:00<00:02, 33.06it/s]"
     ]
    },
    {
     "name": "stdout",
     "output_type": "stream",
     "text": [
      "\n"
     ]
    },
    {
     "name": "stderr",
     "output_type": "stream",
     "text": [
      "100%|██████████████████████████████████████████████████████████████████████████████████████████████████████████| 101/101 [00:03<00:00, 32.11it/s]\n",
      "100%|██████████████████████████████████████████████████████████████████████████████████████████████████████████| 101/101 [00:03<00:00, 33.36it/s]\n",
      "100%|██████████████████████████████████████████████████████████████████████████████████████████████████████████| 101/101 [00:03<00:00, 32.71it/s]\n",
      "100%|██████████████████████████████████████████████████████████████████████████████████████████████████████████| 101/101 [00:03<00:00, 33.63it/s]\n"
     ]
    },
    {
     "name": "stdout",
     "output_type": "stream",
     "text": [
      "Frame 8000 in 20001 \n",
      "\n"
     ]
    },
    {
     "name": "stderr",
     "output_type": "stream",
     "text": [
      "\r",
      "  0%|                                                                                                                    | 0/101 [00:00<?, ?it/s]"
     ]
    },
    {
     "name": "stdout",
     "output_type": "stream",
     "text": [
      "Frame 3800 in 20001 \n",
      "\n"
     ]
    },
    {
     "name": "stderr",
     "output_type": "stream",
     "text": [
      " 24%|█████████████████████████▍                                                                                 | 24/101 [00:00<00:02, 34.48it/s]"
     ]
    },
    {
     "name": "stdout",
     "output_type": "stream",
     "text": [
      "Frame 9400 in 20001 \n",
      "\n"
     ]
    },
    {
     "name": "stderr",
     "output_type": "stream",
     "text": [
      "  4%|████▎                                                                                                       | 4/101 [00:00<00:02, 34.41it/s]"
     ]
    },
    {
     "name": "stdout",
     "output_type": "stream",
     "text": [
      "Frame 10800 in 20001 \n",
      "\n"
     ]
    },
    {
     "name": "stderr",
     "output_type": "stream",
     "text": [
      "100%|██████████████████████████████████████████████████████████████████████████████████████████████████████████| 101/101 [00:03<00:00, 32.53it/s]\n",
      "100%|██████████████████████████████████████████████████████████████████████████████████████████████████████████| 101/101 [00:03<00:00, 30.72it/s]\n",
      "100%|██████████████████████████████████████████████████████████████████████████████████████████████████████████| 101/101 [00:03<00:00, 32.27it/s]\n",
      "100%|██████████████████████████████████████████████████████████████████████████████████████████████████████████| 101/101 [00:03<00:00, 31.69it/s]\n"
     ]
    },
    {
     "name": "stdout",
     "output_type": "stream",
     "text": [
      "Frame 4000 in 20001 \n",
      "\n"
     ]
    },
    {
     "name": "stderr",
     "output_type": "stream",
     "text": [
      "\r",
      "  0%|                                                                                                                    | 0/101 [00:00<?, ?it/s]"
     ]
    },
    {
     "name": "stdout",
     "output_type": "stream",
     "text": [
      "Frame 8200 in 20001 \n",
      "\n"
     ]
    },
    {
     "name": "stderr",
     "output_type": "stream",
     "text": [
      " 25%|██████████████████████████▍                                                                                | 25/101 [00:00<00:02, 34.76it/s]"
     ]
    },
    {
     "name": "stdout",
     "output_type": "stream",
     "text": [
      "Frame 9600 in 20001 \n",
      "\n"
     ]
    },
    {
     "name": "stderr",
     "output_type": "stream",
     "text": [
      " 33%|██████████████████████████████████▉                                                                        | 33/101 [00:00<00:02, 33.30it/s]"
     ]
    },
    {
     "name": "stdout",
     "output_type": "stream",
     "text": [
      "Frame 11000 in 20001 \n",
      "\n"
     ]
    },
    {
     "name": "stderr",
     "output_type": "stream",
     "text": [
      "100%|██████████████████████████████████████████████████████████████████████████████████████████████████████████| 101/101 [00:02<00:00, 33.70it/s]\n",
      "100%|██████████████████████████████████████████████████████████████████████████████████████████████████████████| 101/101 [00:03<00:00, 31.48it/s]\n",
      " 93%|███████████████████████████████████████████████████████████████████████████████████████████████████▌       | 94/101 [00:02<00:00, 30.67it/s]\n",
      "100%|██████████████████████████████████████████████████████████████████████████████████████████████████████████| 101/101 [00:03<00:00, 31.87it/s]\n"
     ]
    },
    {
     "name": "stdout",
     "output_type": "stream",
     "text": [
      "Frame 11200 in 20001 \n",
      "\n"
     ]
    },
    {
     "name": "stderr",
     "output_type": "stream",
     "text": [
      "  8%|████████▌                                                                                                   | 8/101 [00:00<00:02, 38.45it/s]"
     ]
    },
    {
     "name": "stdout",
     "output_type": "stream",
     "text": [
      "Frame 12600 in 20001 \n",
      "\n"
     ]
    },
    {
     "name": "stderr",
     "output_type": "stream",
     "text": [
      " 36%|██████████████████████████████████████▏                                                                    | 36/101 [00:01<00:01, 33.37it/s]"
     ]
    },
    {
     "name": "stdout",
     "output_type": "stream",
     "text": [
      "Frame 14000 in 20001 \n",
      "\n"
     ]
    },
    {
     "name": "stderr",
     "output_type": "stream",
     "text": [
      " 40%|██████████████████████████████████████████▍                                                                | 40/101 [00:01<00:02, 28.84it/s]"
     ]
    },
    {
     "name": "stdout",
     "output_type": "stream",
     "text": [
      "Frame 15400 in 20001 \n",
      "\n"
     ]
    },
    {
     "name": "stderr",
     "output_type": "stream",
     "text": [
      "100%|██████████████████████████████████████████████████████████████████████████████████████████████████████████| 101/101 [00:03<00:00, 33.02it/s]\n",
      "100%|██████████████████████████████████████████████████████████████████████████████████████████████████████████| 101/101 [00:03<00:00, 31.49it/s]\n",
      "100%|██████████████████████████████████████████████████████████████████████████████████████████████████████████| 101/101 [00:02<00:00, 34.26it/s]\n",
      "100%|██████████████████████████████████████████████████████████████████████████████████████████████████████████| 101/101 [00:03<00:00, 33.66it/s]\n"
     ]
    },
    {
     "name": "stdout",
     "output_type": "stream",
     "text": [
      "Frame 11400 in 20001 \n",
      "\n"
     ]
    },
    {
     "name": "stderr",
     "output_type": "stream",
     "text": [
      "  8%|████████▌                                                                                                   | 8/101 [00:00<00:02, 34.41it/s]"
     ]
    },
    {
     "name": "stdout",
     "output_type": "stream",
     "text": [
      "Frame 14200 in 20001 \n",
      "\n"
     ]
    },
    {
     "name": "stderr",
     "output_type": "stream",
     "text": [
      " 12%|████████████▋                                                                                              | 12/101 [00:00<00:02, 34.27it/s]"
     ]
    },
    {
     "name": "stdout",
     "output_type": "stream",
     "text": [
      "Frame 15600 in 20001 \n",
      "\n"
     ]
    },
    {
     "name": "stderr",
     "output_type": "stream",
     "text": [
      " 16%|████████████████▉                                                                                          | 16/101 [00:00<00:02, 33.81it/s]"
     ]
    },
    {
     "name": "stdout",
     "output_type": "stream",
     "text": [
      "Frame 12800 in 20001 \n",
      "\n"
     ]
    },
    {
     "name": "stderr",
     "output_type": "stream",
     "text": [
      "100%|██████████████████████████████████████████████████████████████████████████████████████████████████████████| 101/101 [00:03<00:00, 32.28it/s]\n",
      "100%|██████████████████████████████████████████████████████████████████████████████████████████████████████████| 101/101 [00:03<00:00, 32.30it/s]\n",
      "100%|██████████████████████████████████████████████████████████████████████████████████████████████████████████| 101/101 [00:03<00:00, 31.27it/s]\n",
      "100%|██████████████████████████████████████████████████████████████████████████████████████████████████████████| 101/101 [00:03<00:00, 30.51it/s]\n"
     ]
    },
    {
     "name": "stdout",
     "output_type": "stream",
     "text": [
      "Frame 11600 in 20001 \n",
      "\n"
     ]
    },
    {
     "name": "stderr",
     "output_type": "stream",
     "text": [
      "  8%|████████▌                                                                                                   | 8/101 [00:00<00:02, 35.36it/s]"
     ]
    },
    {
     "name": "stdout",
     "output_type": "stream",
     "text": [
      "Frame 14400 in 20001 \n",
      "\n"
     ]
    },
    {
     "name": "stderr",
     "output_type": "stream",
     "text": [
      "\r",
      "  0%|                                                                                                                    | 0/101 [00:00<?, ?it/s]"
     ]
    },
    {
     "name": "stdout",
     "output_type": "stream",
     "text": [
      "Frame 15800 in 20001 \n",
      "\n"
     ]
    },
    {
     "name": "stderr",
     "output_type": "stream",
     "text": [
      " 12%|████████████▋                                                                                              | 12/101 [00:00<00:02, 34.07it/s]"
     ]
    },
    {
     "name": "stdout",
     "output_type": "stream",
     "text": [
      "Frame 13000 in 20001 \n",
      "\n"
     ]
    },
    {
     "name": "stderr",
     "output_type": "stream",
     "text": [
      "100%|██████████████████████████████████████████████████████████████████████████████████████████████████████████| 101/101 [00:03<00:00, 31.10it/s]\n",
      "100%|██████████████████████████████████████████████████████████████████████████████████████████████████████████| 101/101 [00:03<00:00, 32.71it/s]\n",
      "100%|██████████████████████████████████████████████████████████████████████████████████████████████████████████| 101/101 [00:03<00:00, 32.04it/s]\n",
      "100%|██████████████████████████████████████████████████████████████████████████████████████████████████████████| 101/101 [00:03<00:00, 30.36it/s]\n"
     ]
    },
    {
     "name": "stdout",
     "output_type": "stream",
     "text": [
      "Frame 11800 in 20001 \n",
      "\n"
     ]
    },
    {
     "name": "stderr",
     "output_type": "stream",
     "text": [
      "  4%|████▎                                                                                                       | 4/101 [00:00<00:02, 35.02it/s]"
     ]
    },
    {
     "name": "stdout",
     "output_type": "stream",
     "text": [
      "Frame 14600 in 20001 \n",
      "\n"
     ]
    },
    {
     "name": "stderr",
     "output_type": "stream",
     "text": [
      "\r",
      "  0%|                                                                                                                    | 0/101 [00:00<?, ?it/s]"
     ]
    },
    {
     "name": "stdout",
     "output_type": "stream",
     "text": [
      "Frame 16000 in 20001 \n",
      "\n"
     ]
    },
    {
     "name": "stderr",
     "output_type": "stream",
     "text": [
      " 20%|█████████████████████▏                                                                                     | 20/101 [00:00<00:02, 33.63it/s]"
     ]
    },
    {
     "name": "stdout",
     "output_type": "stream",
     "text": [
      "Frame 13200 in 20001 \n",
      "\n"
     ]
    },
    {
     "name": "stderr",
     "output_type": "stream",
     "text": [
      "100%|██████████████████████████████████████████████████████████████████████████████████████████████████████████| 101/101 [00:03<00:00, 33.18it/s]\n",
      "100%|██████████████████████████████████████████████████████████████████████████████████████████████████████████| 101/101 [00:03<00:00, 32.83it/s]\n",
      "100%|██████████████████████████████████████████████████████████████████████████████████████████████████████████| 101/101 [00:03<00:00, 32.41it/s]\n",
      "100%|██████████████████████████████████████████████████████████████████████████████████████████████████████████| 101/101 [00:03<00:00, 32.26it/s]\n"
     ]
    },
    {
     "name": "stdout",
     "output_type": "stream",
     "text": [
      "Frame 16200 in 20001 \n",
      "\n"
     ]
    },
    {
     "name": "stderr",
     "output_type": "stream",
     "text": [
      " 14%|██████████████▊                                                                                            | 14/101 [00:00<00:02, 32.82it/s]"
     ]
    },
    {
     "name": "stdout",
     "output_type": "stream",
     "text": [
      "Frame 13400 in 20001 \n",
      "\n"
     ]
    },
    {
     "name": "stderr",
     "output_type": "stream",
     "text": [
      "  4%|████▎                                                                                                       | 4/101 [00:00<00:03, 30.73it/s]"
     ]
    },
    {
     "name": "stdout",
     "output_type": "stream",
     "text": [
      "Frame 12000 in 20001 \n",
      "\n"
     ]
    },
    {
     "name": "stderr",
     "output_type": "stream",
     "text": [
      "  4%|████▎                                                                                                       | 4/101 [00:00<00:02, 33.40it/s]"
     ]
    },
    {
     "name": "stdout",
     "output_type": "stream",
     "text": [
      "Frame 14800 in 20001 \n",
      "\n"
     ]
    },
    {
     "name": "stderr",
     "output_type": "stream",
     "text": [
      "100%|██████████████████████████████████████████████████████████████████████████████████████████████████████████| 101/101 [00:02<00:00, 33.68it/s]\n",
      "100%|██████████████████████████████████████████████████████████████████████████████████████████████████████████| 101/101 [00:02<00:00, 34.72it/s]\n",
      "100%|██████████████████████████████████████████████████████████████████████████████████████████████████████████| 101/101 [00:03<00:00, 31.82it/s]\n",
      "100%|██████████████████████████████████████████████████████████████████████████████████████████████████████████| 101/101 [00:03<00:00, 33.00it/s]\n"
     ]
    },
    {
     "name": "stdout",
     "output_type": "stream",
     "text": [
      "Frame 12200 in 20001 \n",
      "\n"
     ]
    },
    {
     "name": "stderr",
     "output_type": "stream",
     "text": [
      "  5%|██████▉                                                                                                                                     | 5/101 [00:00<00:02, 40.45it/s]"
     ]
    },
    {
     "name": "stdout",
     "output_type": "stream",
     "text": [
      "Frame 16400 in 20001 \n",
      "\n"
     ]
    },
    {
     "name": "stderr",
     "output_type": "stream",
     "text": [
      " 14%|███████████████████▎                                                                                                                       | 14/101 [00:00<00:02, 37.73it/s]"
     ]
    },
    {
     "name": "stdout",
     "output_type": "stream",
     "text": [
      "Frame 15000 in 20001 \n",
      "\n"
     ]
    },
    {
     "name": "stderr",
     "output_type": "stream",
     "text": [
      " 12%|████████████████▌                                                                                                                          | 12/101 [00:00<00:02, 34.69it/s]"
     ]
    },
    {
     "name": "stdout",
     "output_type": "stream",
     "text": [
      "Frame 13600 in 20001 \n"
     ]
    },
    {
     "name": "stderr",
     "output_type": "stream",
     "text": [
      "\r",
      " 20%|███████████████████████████▌                                                                                                               | 20/101 [00:00<00:02, 29.67it/s]"
     ]
    },
    {
     "name": "stdout",
     "output_type": "stream",
     "text": [
      "\n"
     ]
    },
    {
     "name": "stderr",
     "output_type": "stream",
     "text": [
      "100%|██████████████████████████████████████████████████████████████████████████████████████████████████████████████████████████████████████████| 101/101 [00:03<00:00, 33.25it/s]\n",
      "100%|██████████████████████████████████████████████████████████████████████████████████████████████████████████████████████████████████████████| 101/101 [00:03<00:00, 32.00it/s]\n",
      "100%|██████████████████████████████████████████████████████████████████████████████████████████████████████████████████████████████████████████| 101/101 [00:02<00:00, 34.30it/s]\n",
      "100%|██████████████████████████████████████████████████████████████████████████████████████████████████████████████████████████████████████████| 101/101 [00:03<00:00, 33.13it/s]\n"
     ]
    },
    {
     "name": "stdout",
     "output_type": "stream",
     "text": [
      "Frame 12400 in 20001 \n",
      "\n"
     ]
    },
    {
     "name": "stderr",
     "output_type": "stream",
     "text": [
      " 19%|██████████████████████████▏                                                                                                                | 19/101 [00:00<00:02, 36.55it/s]"
     ]
    },
    {
     "name": "stdout",
     "output_type": "stream",
     "text": [
      "Frame 16600 in 20001 \n",
      "\n"
     ]
    },
    {
     "name": "stderr",
     "output_type": "stream",
     "text": [
      " 31%|██████████████████████████████████████████▋                                                                                                | 31/101 [00:00<00:01, 36.04it/s]"
     ]
    },
    {
     "name": "stdout",
     "output_type": "stream",
     "text": [
      "Frame 15200 in 20001 \n",
      "\n"
     ]
    },
    {
     "name": "stderr",
     "output_type": "stream",
     "text": [
      " 21%|████████████████████████████▉                                                                                                              | 21/101 [00:00<00:02, 35.97it/s]"
     ]
    },
    {
     "name": "stdout",
     "output_type": "stream",
     "text": [
      "Frame 13800 in 20001 \n",
      "\n"
     ]
    },
    {
     "name": "stderr",
     "output_type": "stream",
     "text": [
      "100%|██████████████████████████████████████████████████████████████████████████████████████████████████████████████████████████████████████████| 101/101 [00:02<00:00, 35.09it/s]\n",
      "100%|██████████████████████████████████████████████████████████████████████████████████████████████████████████████████████████████████████████| 101/101 [00:03<00:00, 32.00it/s]\n",
      "100%|██████████████████████████████████████████████████████████████████████████████████████████████████████████████████████████████████████████| 101/101 [00:02<00:00, 33.76it/s]\n",
      "100%|██████████████████████████████████████████████████████████████████████████████████████████████████████████████████████████████████████████| 101/101 [00:02<00:00, 34.02it/s]\n"
     ]
    },
    {
     "name": "stdout",
     "output_type": "stream",
     "text": [
      "Frame 16800 in 20001 \n",
      "\n"
     ]
    },
    {
     "name": "stderr",
     "output_type": "stream",
     "text": [
      " 21%|████████████████████████████▉                                                                                                              | 21/101 [00:00<00:02, 36.49it/s]"
     ]
    },
    {
     "name": "stdout",
     "output_type": "stream",
     "text": [
      "Frame 18200 in 20001 \n",
      "\n"
     ]
    },
    {
     "name": "stderr",
     "output_type": "stream",
     "text": [
      " 40%|███████████████████████████████████████████████████████                                                                                    | 40/101 [00:01<00:01, 38.70it/s]"
     ]
    },
    {
     "name": "stdout",
     "output_type": "stream",
     "text": [
      "\n",
      "Frame 19600 in 20001 \n"
     ]
    },
    {
     "name": "stderr",
     "output_type": "stream",
     "text": [
      "100%|██████████████████████████████████████████████████████████████████████████████████████████████████████████████████████████████████████████| 101/101 [00:02<00:00, 34.60it/s]\n",
      "100%|██████████████████████████████████████████████████████████████████████████████████████████████████████████████████████████████████████████| 101/101 [00:02<00:00, 36.60it/s]\n",
      "100%|██████████████████████████████████████████████████████████████████████████████████████████████████████████████████████████████████████████| 101/101 [00:02<00:00, 34.84it/s]\n"
     ]
    },
    {
     "name": "stdout",
     "output_type": "stream",
     "text": [
      "Frame 18400 in 20001 \n",
      "\n"
     ]
    },
    {
     "name": "stderr",
     "output_type": "stream",
     "text": [
      "  5%|██████▉                                                                                                                                     | 5/101 [00:00<00:02, 44.78it/s]"
     ]
    },
    {
     "name": "stdout",
     "output_type": "stream",
     "text": [
      "Frame 17000 in 20001 \n",
      "\n"
     ]
    },
    {
     "name": "stderr",
     "output_type": "stream",
     "text": [
      " 40%|███████████████████████████████████████████████████████                                                                                    | 40/101 [00:01<00:01, 37.50it/s]"
     ]
    },
    {
     "name": "stdout",
     "output_type": "stream",
     "text": [
      "Frame 19800 in 20001 \n",
      "\n"
     ]
    },
    {
     "name": "stderr",
     "output_type": "stream",
     "text": [
      "100%|██████████████████████████████████████████████████████████████████████████████████████████████████████████████████████████████████████████| 101/101 [00:02<00:00, 36.58it/s]\n",
      "100%|██████████████████████████████████████████████████████████████████████████████████████████████████████████████████████████████████████████| 101/101 [00:02<00:00, 34.44it/s]\n",
      "100%|██████████████████████████████████████████████████████████████████████████████████████████████████████████████████████████████████████████| 101/101 [00:02<00:00, 35.64it/s]\n"
     ]
    },
    {
     "name": "stdout",
     "output_type": "stream",
     "text": [
      "Frame 18600 in 20001 \n",
      "\n"
     ]
    },
    {
     "name": "stderr",
     "output_type": "stream",
     "text": [
      "  3%|████▏                                                                                                                                       | 3/101 [00:00<00:03, 28.63it/s]"
     ]
    },
    {
     "name": "stdout",
     "output_type": "stream",
     "text": [
      "Frame 17200 in 20001 \n",
      "\n"
     ]
    },
    {
     "name": "stderr",
     "output_type": "stream",
     "text": [
      " 54%|███████████████████████████████████████████████████████████████████████████▋                                                               | 55/101 [00:01<00:01, 39.02it/s]"
     ]
    },
    {
     "name": "stdout",
     "output_type": "stream",
     "text": [
      "Frame 20000 in 20001 \n",
      "\n"
     ]
    },
    {
     "name": "stderr",
     "output_type": "stream",
     "text": [
      "100%|██████████████████████████████████████████████████████████████████████████████████████████████████████████████████████████████████████████| 101/101 [00:02<00:00, 37.53it/s]\n",
      "100%|██████████████████████████████████████████████████████████████████████████████████████████████████████████████████████████████████████████| 101/101 [00:02<00:00, 37.15it/s]\n",
      "100%|██████████████████████████████████████████████████████████████████████████████████████████████████████████████████████████████████████████| 101/101 [00:02<00:00, 35.36it/s]\n"
     ]
    },
    {
     "name": "stdout",
     "output_type": "stream",
     "text": [
      "Frame 18800 in 20001 \n",
      "\n"
     ]
    },
    {
     "name": "stderr",
     "output_type": "stream",
     "text": [
      "\r",
      "  0%|                                                                                                                                                    | 0/101 [00:00<?, ?it/s]"
     ]
    },
    {
     "name": "stdout",
     "output_type": "stream",
     "text": [
      "Frame 17400 in 20001 \n",
      "\n"
     ]
    },
    {
     "name": "stderr",
     "output_type": "stream",
     "text": [
      "100%|██████████████████████████████████████████████████████████████████████████████████████████████████████████████████████████████████████████| 101/101 [00:02<00:00, 37.45it/s]\n",
      "100%|██████████████████████████████████████████████████████████████████████████████████████████████████████████████████████████████████████████| 101/101 [00:03<00:00, 33.34it/s]\n"
     ]
    },
    {
     "name": "stdout",
     "output_type": "stream",
     "text": [
      "Frame 19000 in 20001 \n",
      "\n"
     ]
    },
    {
     "name": "stderr",
     "output_type": "stream",
     "text": [
      "  3%|████▏                                                                                                                                       | 3/101 [00:00<00:03, 27.70it/s]"
     ]
    },
    {
     "name": "stdout",
     "output_type": "stream",
     "text": [
      "Frame 17600 in 20001 \n",
      "\n"
     ]
    },
    {
     "name": "stderr",
     "output_type": "stream",
     "text": [
      "100%|██████████████████████████████████████████████████████████████████████████████████████████████████████████████████████████████████████████| 101/101 [00:02<00:00, 35.61it/s]\n",
      "100%|██████████████████████████████████████████████████████████████████████████████████████████████████████████████████████████████████████████| 101/101 [00:03<00:00, 32.92it/s]\n"
     ]
    },
    {
     "name": "stdout",
     "output_type": "stream",
     "text": [
      "Frame 17800 in 20001 \n",
      "\n"
     ]
    },
    {
     "name": "stderr",
     "output_type": "stream",
     "text": [
      "\r",
      "  0%|                                                                                                                                                    | 0/101 [00:00<?, ?it/s]"
     ]
    },
    {
     "name": "stdout",
     "output_type": "stream",
     "text": [
      "Frame 19200 in 20001 \n",
      "\n"
     ]
    },
    {
     "name": "stderr",
     "output_type": "stream",
     "text": [
      "100%|██████████████████████████████████████████████████████████████████████████████████████████████████████████████████████████████████████████| 101/101 [00:02<00:00, 36.82it/s]\n",
      "100%|██████████████████████████████████████████████████████████████████████████████████████████████████████████████████████████████████████████| 101/101 [00:02<00:00, 36.12it/s]\n"
     ]
    },
    {
     "name": "stdout",
     "output_type": "stream",
     "text": [
      "Frame 18000 in 20001 \n",
      "\n"
     ]
    },
    {
     "name": "stderr",
     "output_type": "stream",
     "text": [
      "\r",
      "  0%|                                                                                                                                                    | 0/101 [00:00<?, ?it/s]"
     ]
    },
    {
     "name": "stdout",
     "output_type": "stream",
     "text": [
      "Frame 19400 in 20001 \n",
      "\n"
     ]
    },
    {
     "name": "stderr",
     "output_type": "stream",
     "text": [
      "100%|██████████████████████████████████████████████████████████████████████████████████████████████████████████████████████████████████████████| 101/101 [00:02<00:00, 36.91it/s]\n",
      "100%|██████████████████████████████████████████████████████████████████████████████████████████████████████████████████████████████████████████| 101/101 [00:02<00:00, 35.45it/s]\n"
     ]
    }
   ],
   "source": [
    "if __name__ == \"__main__\":\n",
    "   \n",
    "    ref_structure=\"ALK1_50_CG3_01_npt_eq.pdb\"\n",
    "    traj         =\"ALK1_50_CG3_01_protein_final.xtc\"\n",
    "    Name         ='ALK1_50_CG3_01_xx'\n",
    "    \n",
    "    u            = mda.Universe(ref_structure,traj)\n",
    "    ref          = mda.Universe(ref_structure)\n",
    "    #frames       = len(u.trajectory)\n",
    "    \n",
    "    topology     = md.load(ref_structure).topology\n",
    "    trajectory   = md.load(traj, top=ref_structure)\n",
    "    frames       = trajectory.n_frames #Number of frames\n",
    "    chains       = topology.n_chains   #Number of chains\n",
    "    atoms        = int(topology.n_atoms/chains)#Number of atoms in each monomer \n",
    "    AminoAcids   = int(topology.n_residues/chains) #Number of residues per chain \n",
    "    \n",
    "    res          = 'LYS'    \n",
    "    sel1         = 'resname %s and name BB'%res\n",
    "\n",
    "    print (\"There are {} chains and each has {} number of AminoAcids\".format(AminoAcids,chains))\n",
    "    \n",
    "    \n",
    "    start_f      = 0\n",
    "    skip         = 200\n",
    "    end_f        = frames  \n",
    "    nprocs       = 4\n",
    "    n_frames     = np.arange(start_f, end_f)[::skip]\n",
    "    pool         = mp.Pool(processes=nprocs)\n",
    "    \n",
    "    \n",
    "    print ('Initiating multiprocessing with %i processors'%nprocs)\n",
    "    \n",
    "    Tetra        = pool.map(Delaunay_Tessellation,n_frames) \n",
    "    Histogram(Tetra)\n",
    "    \n",
    "    #GetCoords(n_frames)\n",
    "    "
   ]
  }
 ],
 "metadata": {
  "kernelspec": {
   "display_name": "Python 3 (ipykernel)",
   "language": "python",
   "name": "python3"
  },
  "language_info": {
   "codemirror_mode": {
    "name": "ipython",
    "version": 3
   },
   "file_extension": ".py",
   "mimetype": "text/x-python",
   "name": "python",
   "nbconvert_exporter": "python",
   "pygments_lexer": "ipython3",
   "version": "3.9.7"
  }
 },
 "nbformat": 4,
 "nbformat_minor": 5
}
